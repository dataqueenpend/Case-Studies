{
  "nbformat": 4,
  "nbformat_minor": 0,
  "metadata": {
    "colab": {
      "name": "Analyzing Police Activity with pandas.ipynb",
      "provenance": [],
      "collapsed_sections": [],
      "authorship_tag": "ABX9TyPZCtuLhT6R3gf5alqrzUUz",
      "include_colab_link": true
    },
    "kernelspec": {
      "name": "python3",
      "display_name": "Python 3"
    },
    "language_info": {
      "name": "python"
    }
  },
  "cells": [
    {
      "cell_type": "markdown",
      "metadata": {
        "id": "view-in-github",
        "colab_type": "text"
      },
      "source": [
        "<a href=\"https://colab.research.google.com/github/dataqueenpend/Case-Studies/blob/main/Analyzing_Police_Activity_with_pandas.ipynb\" target=\"_parent\"><img src=\"https://colab.research.google.com/assets/colab-badge.svg\" alt=\"Open In Colab\"/></a>"
      ]
    },
    {
      "cell_type": "markdown",
      "metadata": {
        "id": "u8robg99Qb88"
      },
      "source": [
        "#Analyzing Police Activity with pandas\n",
        "\n",
        "Explore the Stanford Open Policing Project dataset and analyze the impact of gender on police behavior.\n",
        "\n",
        "A dataset of traffic stops by police officers that was collected by the Stanford Open Policing Project. They've collected data from 31 US states, but in this course we'll be focusing on data from the state of Rhode Island. \n",
        "\n",
        "**Case study with DataCamp. Most of the notes are copied from case study Analyzing Police Activity with pandas.** "
      ]
    },
    {
      "cell_type": "markdown",
      "metadata": {
        "id": "9YS05__dQcHt"
      },
      "source": [
        "##Preparing the data for analysis\n",
        "First examine and clean the dataset:\n",
        "* fixing data types, \n",
        "* handling missing values, \n",
        "* and dropping columns and rows \n",
        "\n",
        "\n",
        "Before beginning an analysis, it's critical to first examine the data to make sure that we understand it, and then clean the data, to make working with it a more efficient process. \n",
        "\n",
        "We'll start by importing pandas as pd. We'll use the read_csv() function to read in the dataset from a file, and then store it in a DataFrame called ri, which stands for Rhode Island."
      ]
    },
    {
      "cell_type": "code",
      "metadata": {
        "id": "hQrCRSHTaXoB"
      },
      "source": [
        "import pandas as pd\n",
        "\n",
        "url = \"https://assets.datacamp.com/production/repositories/1497/datasets/62bd9feef451860db02d26553613a299721882e8/police.csv\"\n",
        "ri = pd.read_csv(url)"
      ],
      "execution_count": 2,
      "outputs": []
    },
    {
      "cell_type": "markdown",
      "metadata": {
        "id": "ehGfrdElccXm"
      },
      "source": [
        "We'll use the head() method in order to take a quick glance at the DataFrame, though there are many more columns than can fit on this screen."
      ]
    },
    {
      "cell_type": "code",
      "metadata": {
        "colab": {
          "base_uri": "https://localhost:8080/",
          "height": 241
        },
        "id": "ytVnpXDqcdMV",
        "outputId": "3527652d-8185-4511-c0d8-3701cb9300b1"
      },
      "source": [
        "ri.head()"
      ],
      "execution_count": 3,
      "outputs": [
        {
          "output_type": "execute_result",
          "data": {
            "text/html": [
              "<div>\n",
              "<style scoped>\n",
              "    .dataframe tbody tr th:only-of-type {\n",
              "        vertical-align: middle;\n",
              "    }\n",
              "\n",
              "    .dataframe tbody tr th {\n",
              "        vertical-align: top;\n",
              "    }\n",
              "\n",
              "    .dataframe thead th {\n",
              "        text-align: right;\n",
              "    }\n",
              "</style>\n",
              "<table border=\"1\" class=\"dataframe\">\n",
              "  <thead>\n",
              "    <tr style=\"text-align: right;\">\n",
              "      <th></th>\n",
              "      <th>state</th>\n",
              "      <th>stop_date</th>\n",
              "      <th>stop_time</th>\n",
              "      <th>county_name</th>\n",
              "      <th>driver_gender</th>\n",
              "      <th>driver_race</th>\n",
              "      <th>violation_raw</th>\n",
              "      <th>violation</th>\n",
              "      <th>search_conducted</th>\n",
              "      <th>search_type</th>\n",
              "      <th>stop_outcome</th>\n",
              "      <th>is_arrested</th>\n",
              "      <th>stop_duration</th>\n",
              "      <th>drugs_related_stop</th>\n",
              "      <th>district</th>\n",
              "    </tr>\n",
              "  </thead>\n",
              "  <tbody>\n",
              "    <tr>\n",
              "      <th>0</th>\n",
              "      <td>RI</td>\n",
              "      <td>2005-01-04</td>\n",
              "      <td>12:55</td>\n",
              "      <td>NaN</td>\n",
              "      <td>M</td>\n",
              "      <td>White</td>\n",
              "      <td>Equipment/Inspection Violation</td>\n",
              "      <td>Equipment</td>\n",
              "      <td>False</td>\n",
              "      <td>NaN</td>\n",
              "      <td>Citation</td>\n",
              "      <td>False</td>\n",
              "      <td>0-15 Min</td>\n",
              "      <td>False</td>\n",
              "      <td>Zone X4</td>\n",
              "    </tr>\n",
              "    <tr>\n",
              "      <th>1</th>\n",
              "      <td>RI</td>\n",
              "      <td>2005-01-23</td>\n",
              "      <td>23:15</td>\n",
              "      <td>NaN</td>\n",
              "      <td>M</td>\n",
              "      <td>White</td>\n",
              "      <td>Speeding</td>\n",
              "      <td>Speeding</td>\n",
              "      <td>False</td>\n",
              "      <td>NaN</td>\n",
              "      <td>Citation</td>\n",
              "      <td>False</td>\n",
              "      <td>0-15 Min</td>\n",
              "      <td>False</td>\n",
              "      <td>Zone K3</td>\n",
              "    </tr>\n",
              "    <tr>\n",
              "      <th>2</th>\n",
              "      <td>RI</td>\n",
              "      <td>2005-02-17</td>\n",
              "      <td>04:15</td>\n",
              "      <td>NaN</td>\n",
              "      <td>M</td>\n",
              "      <td>White</td>\n",
              "      <td>Speeding</td>\n",
              "      <td>Speeding</td>\n",
              "      <td>False</td>\n",
              "      <td>NaN</td>\n",
              "      <td>Citation</td>\n",
              "      <td>False</td>\n",
              "      <td>0-15 Min</td>\n",
              "      <td>False</td>\n",
              "      <td>Zone X4</td>\n",
              "    </tr>\n",
              "    <tr>\n",
              "      <th>3</th>\n",
              "      <td>RI</td>\n",
              "      <td>2005-02-20</td>\n",
              "      <td>17:15</td>\n",
              "      <td>NaN</td>\n",
              "      <td>M</td>\n",
              "      <td>White</td>\n",
              "      <td>Call for Service</td>\n",
              "      <td>Other</td>\n",
              "      <td>False</td>\n",
              "      <td>NaN</td>\n",
              "      <td>Arrest Driver</td>\n",
              "      <td>True</td>\n",
              "      <td>16-30 Min</td>\n",
              "      <td>False</td>\n",
              "      <td>Zone X1</td>\n",
              "    </tr>\n",
              "    <tr>\n",
              "      <th>4</th>\n",
              "      <td>RI</td>\n",
              "      <td>2005-02-24</td>\n",
              "      <td>01:20</td>\n",
              "      <td>NaN</td>\n",
              "      <td>F</td>\n",
              "      <td>White</td>\n",
              "      <td>Speeding</td>\n",
              "      <td>Speeding</td>\n",
              "      <td>False</td>\n",
              "      <td>NaN</td>\n",
              "      <td>Citation</td>\n",
              "      <td>False</td>\n",
              "      <td>0-15 Min</td>\n",
              "      <td>False</td>\n",
              "      <td>Zone X3</td>\n",
              "    </tr>\n",
              "  </tbody>\n",
              "</table>\n",
              "</div>"
            ],
            "text/plain": [
              "  state   stop_date stop_time  ...  stop_duration drugs_related_stop district\n",
              "0    RI  2005-01-04     12:55  ...       0-15 Min              False  Zone X4\n",
              "1    RI  2005-01-23     23:15  ...       0-15 Min              False  Zone K3\n",
              "2    RI  2005-02-17     04:15  ...       0-15 Min              False  Zone X4\n",
              "3    RI  2005-02-20     17:15  ...      16-30 Min              False  Zone X1\n",
              "4    RI  2005-02-24     01:20  ...       0-15 Min              False  Zone X3\n",
              "\n",
              "[5 rows x 15 columns]"
            ]
          },
          "metadata": {},
          "execution_count": 3
        }
      ]
    },
    {
      "cell_type": "markdown",
      "metadata": {
        "id": "s7I1M3Hgcjs1"
      },
      "source": [
        "Each row represents a single traffic stop.\n",
        "\n",
        "The county_name column contains NaN values, which indicate missing values. These are often values that were not collected during the data gathering process, or are irrelevant for that particular row.\n",
        "\n",
        "**Locating missing values**\n",
        "\n",
        "Locating missing values is essential to decide how to deal with missing data. \n",
        "\n",
        "We'll the isnull() method, that generates a DataFrame of True and False values: True if the element is missing, and False if it's not."
      ]
    },
    {
      "cell_type": "code",
      "metadata": {
        "colab": {
          "base_uri": "https://localhost:8080/",
          "height": 439
        },
        "id": "OZroxDRmdOit",
        "outputId": "85d1d949-f4dd-47b8-e736-2814ef44e3e9"
      },
      "source": [
        "ri.isnull()"
      ],
      "execution_count": 4,
      "outputs": [
        {
          "output_type": "execute_result",
          "data": {
            "text/html": [
              "<div>\n",
              "<style scoped>\n",
              "    .dataframe tbody tr th:only-of-type {\n",
              "        vertical-align: middle;\n",
              "    }\n",
              "\n",
              "    .dataframe tbody tr th {\n",
              "        vertical-align: top;\n",
              "    }\n",
              "\n",
              "    .dataframe thead th {\n",
              "        text-align: right;\n",
              "    }\n",
              "</style>\n",
              "<table border=\"1\" class=\"dataframe\">\n",
              "  <thead>\n",
              "    <tr style=\"text-align: right;\">\n",
              "      <th></th>\n",
              "      <th>state</th>\n",
              "      <th>stop_date</th>\n",
              "      <th>stop_time</th>\n",
              "      <th>county_name</th>\n",
              "      <th>driver_gender</th>\n",
              "      <th>driver_race</th>\n",
              "      <th>violation_raw</th>\n",
              "      <th>violation</th>\n",
              "      <th>search_conducted</th>\n",
              "      <th>search_type</th>\n",
              "      <th>stop_outcome</th>\n",
              "      <th>is_arrested</th>\n",
              "      <th>stop_duration</th>\n",
              "      <th>drugs_related_stop</th>\n",
              "      <th>district</th>\n",
              "    </tr>\n",
              "  </thead>\n",
              "  <tbody>\n",
              "    <tr>\n",
              "      <th>0</th>\n",
              "      <td>False</td>\n",
              "      <td>False</td>\n",
              "      <td>False</td>\n",
              "      <td>True</td>\n",
              "      <td>False</td>\n",
              "      <td>False</td>\n",
              "      <td>False</td>\n",
              "      <td>False</td>\n",
              "      <td>False</td>\n",
              "      <td>True</td>\n",
              "      <td>False</td>\n",
              "      <td>False</td>\n",
              "      <td>False</td>\n",
              "      <td>False</td>\n",
              "      <td>False</td>\n",
              "    </tr>\n",
              "    <tr>\n",
              "      <th>1</th>\n",
              "      <td>False</td>\n",
              "      <td>False</td>\n",
              "      <td>False</td>\n",
              "      <td>True</td>\n",
              "      <td>False</td>\n",
              "      <td>False</td>\n",
              "      <td>False</td>\n",
              "      <td>False</td>\n",
              "      <td>False</td>\n",
              "      <td>True</td>\n",
              "      <td>False</td>\n",
              "      <td>False</td>\n",
              "      <td>False</td>\n",
              "      <td>False</td>\n",
              "      <td>False</td>\n",
              "    </tr>\n",
              "    <tr>\n",
              "      <th>2</th>\n",
              "      <td>False</td>\n",
              "      <td>False</td>\n",
              "      <td>False</td>\n",
              "      <td>True</td>\n",
              "      <td>False</td>\n",
              "      <td>False</td>\n",
              "      <td>False</td>\n",
              "      <td>False</td>\n",
              "      <td>False</td>\n",
              "      <td>True</td>\n",
              "      <td>False</td>\n",
              "      <td>False</td>\n",
              "      <td>False</td>\n",
              "      <td>False</td>\n",
              "      <td>False</td>\n",
              "    </tr>\n",
              "    <tr>\n",
              "      <th>3</th>\n",
              "      <td>False</td>\n",
              "      <td>False</td>\n",
              "      <td>False</td>\n",
              "      <td>True</td>\n",
              "      <td>False</td>\n",
              "      <td>False</td>\n",
              "      <td>False</td>\n",
              "      <td>False</td>\n",
              "      <td>False</td>\n",
              "      <td>True</td>\n",
              "      <td>False</td>\n",
              "      <td>False</td>\n",
              "      <td>False</td>\n",
              "      <td>False</td>\n",
              "      <td>False</td>\n",
              "    </tr>\n",
              "    <tr>\n",
              "      <th>4</th>\n",
              "      <td>False</td>\n",
              "      <td>False</td>\n",
              "      <td>False</td>\n",
              "      <td>True</td>\n",
              "      <td>False</td>\n",
              "      <td>False</td>\n",
              "      <td>False</td>\n",
              "      <td>False</td>\n",
              "      <td>False</td>\n",
              "      <td>True</td>\n",
              "      <td>False</td>\n",
              "      <td>False</td>\n",
              "      <td>False</td>\n",
              "      <td>False</td>\n",
              "      <td>False</td>\n",
              "    </tr>\n",
              "    <tr>\n",
              "      <th>...</th>\n",
              "      <td>...</td>\n",
              "      <td>...</td>\n",
              "      <td>...</td>\n",
              "      <td>...</td>\n",
              "      <td>...</td>\n",
              "      <td>...</td>\n",
              "      <td>...</td>\n",
              "      <td>...</td>\n",
              "      <td>...</td>\n",
              "      <td>...</td>\n",
              "      <td>...</td>\n",
              "      <td>...</td>\n",
              "      <td>...</td>\n",
              "      <td>...</td>\n",
              "      <td>...</td>\n",
              "    </tr>\n",
              "    <tr>\n",
              "      <th>91736</th>\n",
              "      <td>False</td>\n",
              "      <td>False</td>\n",
              "      <td>False</td>\n",
              "      <td>True</td>\n",
              "      <td>False</td>\n",
              "      <td>False</td>\n",
              "      <td>False</td>\n",
              "      <td>False</td>\n",
              "      <td>False</td>\n",
              "      <td>True</td>\n",
              "      <td>False</td>\n",
              "      <td>False</td>\n",
              "      <td>False</td>\n",
              "      <td>False</td>\n",
              "      <td>False</td>\n",
              "    </tr>\n",
              "    <tr>\n",
              "      <th>91737</th>\n",
              "      <td>False</td>\n",
              "      <td>False</td>\n",
              "      <td>False</td>\n",
              "      <td>True</td>\n",
              "      <td>False</td>\n",
              "      <td>False</td>\n",
              "      <td>False</td>\n",
              "      <td>False</td>\n",
              "      <td>False</td>\n",
              "      <td>True</td>\n",
              "      <td>False</td>\n",
              "      <td>False</td>\n",
              "      <td>False</td>\n",
              "      <td>False</td>\n",
              "      <td>False</td>\n",
              "    </tr>\n",
              "    <tr>\n",
              "      <th>91738</th>\n",
              "      <td>False</td>\n",
              "      <td>False</td>\n",
              "      <td>False</td>\n",
              "      <td>True</td>\n",
              "      <td>False</td>\n",
              "      <td>False</td>\n",
              "      <td>False</td>\n",
              "      <td>False</td>\n",
              "      <td>False</td>\n",
              "      <td>True</td>\n",
              "      <td>False</td>\n",
              "      <td>False</td>\n",
              "      <td>False</td>\n",
              "      <td>False</td>\n",
              "      <td>False</td>\n",
              "    </tr>\n",
              "    <tr>\n",
              "      <th>91739</th>\n",
              "      <td>False</td>\n",
              "      <td>False</td>\n",
              "      <td>False</td>\n",
              "      <td>True</td>\n",
              "      <td>False</td>\n",
              "      <td>False</td>\n",
              "      <td>False</td>\n",
              "      <td>False</td>\n",
              "      <td>False</td>\n",
              "      <td>True</td>\n",
              "      <td>False</td>\n",
              "      <td>False</td>\n",
              "      <td>False</td>\n",
              "      <td>False</td>\n",
              "      <td>False</td>\n",
              "    </tr>\n",
              "    <tr>\n",
              "      <th>91740</th>\n",
              "      <td>False</td>\n",
              "      <td>False</td>\n",
              "      <td>False</td>\n",
              "      <td>True</td>\n",
              "      <td>False</td>\n",
              "      <td>False</td>\n",
              "      <td>False</td>\n",
              "      <td>False</td>\n",
              "      <td>False</td>\n",
              "      <td>True</td>\n",
              "      <td>False</td>\n",
              "      <td>False</td>\n",
              "      <td>False</td>\n",
              "      <td>False</td>\n",
              "      <td>False</td>\n",
              "    </tr>\n",
              "  </tbody>\n",
              "</table>\n",
              "<p>91741 rows × 15 columns</p>\n",
              "</div>"
            ],
            "text/plain": [
              "       state  stop_date  stop_time  ...  stop_duration  drugs_related_stop  district\n",
              "0      False      False      False  ...          False               False     False\n",
              "1      False      False      False  ...          False               False     False\n",
              "2      False      False      False  ...          False               False     False\n",
              "3      False      False      False  ...          False               False     False\n",
              "4      False      False      False  ...          False               False     False\n",
              "...      ...        ...        ...  ...            ...                 ...       ...\n",
              "91736  False      False      False  ...          False               False     False\n",
              "91737  False      False      False  ...          False               False     False\n",
              "91738  False      False      False  ...          False               False     False\n",
              "91739  False      False      False  ...          False               False     False\n",
              "91740  False      False      False  ...          False               False     False\n",
              "\n",
              "[91741 rows x 15 columns]"
            ]
          },
          "metadata": {},
          "execution_count": 4
        }
      ]
    },
    {
      "cell_type": "markdown",
      "metadata": {
        "id": "mnWdrJl0dS_v"
      },
      "source": [
        "One useful trick is to take the sum of this DataFrame, which outputs a count of the number of missing values in each column.\n",
        "\n",
        "*How does that calculation work?*\n",
        "\n",
        " Well, the sum() method calculates the sum of each column by default, and True values are treated as ones, while False values are treated as zeros."
      ]
    },
    {
      "cell_type": "code",
      "metadata": {
        "colab": {
          "base_uri": "https://localhost:8080/"
        },
        "id": "RSUaiDawdnWe",
        "outputId": "6ee4cf60-7f00-40eb-e28f-2bcbecdb3617"
      },
      "source": [
        "ri.isnull().sum()"
      ],
      "execution_count": 5,
      "outputs": [
        {
          "output_type": "execute_result",
          "data": {
            "text/plain": [
              "state                     0\n",
              "stop_date                 0\n",
              "stop_time                 0\n",
              "county_name           91741\n",
              "driver_gender          5205\n",
              "driver_race            5202\n",
              "violation_raw          5202\n",
              "violation              5202\n",
              "search_conducted          0\n",
              "search_type           88434\n",
              "stop_outcome           5202\n",
              "is_arrested            5202\n",
              "stop_duration          5202\n",
              "drugs_related_stop        0\n",
              "district                  0\n",
              "dtype: int64"
            ]
          },
          "metadata": {},
          "execution_count": 5
        }
      ]
    },
    {
      "cell_type": "markdown",
      "metadata": {
        "id": "Y9tAvRZodrmn"
      },
      "source": [
        "**Dropping a column**\n",
        "\n",
        "Let's compare these missing value counts to the DataFrame's shape."
      ]
    },
    {
      "cell_type": "code",
      "metadata": {
        "colab": {
          "base_uri": "https://localhost:8080/"
        },
        "id": "LqqcDCApdvaW",
        "outputId": "116b447e-8fcf-455e-f581-e76738e5c90b"
      },
      "source": [
        "ri.shape"
      ],
      "execution_count": 6,
      "outputs": [
        {
          "output_type": "execute_result",
          "data": {
            "text/plain": [
              "(91741, 15)"
            ]
          },
          "metadata": {},
          "execution_count": 6
        }
      ]
    },
    {
      "cell_type": "markdown",
      "metadata": {
        "id": "Krxddm4Td8Jt"
      },
      "source": [
        "The county_name column contains as many missing values as there are rows, meaning that it only contains missing values.\n",
        "\n",
        " Since it contains no useful information, this column can be dropped using the drop() method.\n",
        "\n",
        " To use ```drop()```:\n",
        " * specify the column name, \n",
        " * specify that you're dropping from the columns axis,\n",
        " * specify you want the operation to occur in place, which avoids an assignment statement."
      ]
    },
    {
      "cell_type": "code",
      "metadata": {
        "colab": {
          "base_uri": "https://localhost:8080/",
          "height": 324
        },
        "id": "I-2TRr_aeB3O",
        "outputId": "adfe3bf6-eae1-4a6f-b8b3-38ca3e8babfa"
      },
      "source": [
        "ri.drop('county_name', \n",
        "axis='columns', inplace=True)"
      ],
      "execution_count": 9,
      "outputs": [
        {
          "output_type": "error",
          "ename": "KeyError",
          "evalue": "ignored",
          "traceback": [
            "\u001b[0;31m---------------------------------------------------------------------------\u001b[0m",
            "\u001b[0;31mKeyError\u001b[0m                                  Traceback (most recent call last)",
            "\u001b[0;32m<ipython-input-9-24f2ddcdf8fd>\u001b[0m in \u001b[0;36m<module>\u001b[0;34m()\u001b[0m\n\u001b[1;32m      1\u001b[0m ri.drop(['county_name', 'state'],\n\u001b[0;32m----> 2\u001b[0;31m axis='columns', inplace=True)\n\u001b[0m",
            "\u001b[0;32m/usr/local/lib/python3.7/dist-packages/pandas/core/frame.py\u001b[0m in \u001b[0;36mdrop\u001b[0;34m(self, labels, axis, index, columns, level, inplace, errors)\u001b[0m\n\u001b[1;32m   4172\u001b[0m             \u001b[0mlevel\u001b[0m\u001b[0;34m=\u001b[0m\u001b[0mlevel\u001b[0m\u001b[0;34m,\u001b[0m\u001b[0;34m\u001b[0m\u001b[0;34m\u001b[0m\u001b[0m\n\u001b[1;32m   4173\u001b[0m             \u001b[0minplace\u001b[0m\u001b[0;34m=\u001b[0m\u001b[0minplace\u001b[0m\u001b[0;34m,\u001b[0m\u001b[0;34m\u001b[0m\u001b[0;34m\u001b[0m\u001b[0m\n\u001b[0;32m-> 4174\u001b[0;31m             \u001b[0merrors\u001b[0m\u001b[0;34m=\u001b[0m\u001b[0merrors\u001b[0m\u001b[0;34m,\u001b[0m\u001b[0;34m\u001b[0m\u001b[0;34m\u001b[0m\u001b[0m\n\u001b[0m\u001b[1;32m   4175\u001b[0m         )\n\u001b[1;32m   4176\u001b[0m \u001b[0;34m\u001b[0m\u001b[0m\n",
            "\u001b[0;32m/usr/local/lib/python3.7/dist-packages/pandas/core/generic.py\u001b[0m in \u001b[0;36mdrop\u001b[0;34m(self, labels, axis, index, columns, level, inplace, errors)\u001b[0m\n\u001b[1;32m   3887\u001b[0m         \u001b[0;32mfor\u001b[0m \u001b[0maxis\u001b[0m\u001b[0;34m,\u001b[0m \u001b[0mlabels\u001b[0m \u001b[0;32min\u001b[0m \u001b[0maxes\u001b[0m\u001b[0;34m.\u001b[0m\u001b[0mitems\u001b[0m\u001b[0;34m(\u001b[0m\u001b[0;34m)\u001b[0m\u001b[0;34m:\u001b[0m\u001b[0;34m\u001b[0m\u001b[0;34m\u001b[0m\u001b[0m\n\u001b[1;32m   3888\u001b[0m             \u001b[0;32mif\u001b[0m \u001b[0mlabels\u001b[0m \u001b[0;32mis\u001b[0m \u001b[0;32mnot\u001b[0m \u001b[0;32mNone\u001b[0m\u001b[0;34m:\u001b[0m\u001b[0;34m\u001b[0m\u001b[0;34m\u001b[0m\u001b[0m\n\u001b[0;32m-> 3889\u001b[0;31m                 \u001b[0mobj\u001b[0m \u001b[0;34m=\u001b[0m \u001b[0mobj\u001b[0m\u001b[0;34m.\u001b[0m\u001b[0m_drop_axis\u001b[0m\u001b[0;34m(\u001b[0m\u001b[0mlabels\u001b[0m\u001b[0;34m,\u001b[0m \u001b[0maxis\u001b[0m\u001b[0;34m,\u001b[0m \u001b[0mlevel\u001b[0m\u001b[0;34m=\u001b[0m\u001b[0mlevel\u001b[0m\u001b[0;34m,\u001b[0m \u001b[0merrors\u001b[0m\u001b[0;34m=\u001b[0m\u001b[0merrors\u001b[0m\u001b[0;34m)\u001b[0m\u001b[0;34m\u001b[0m\u001b[0;34m\u001b[0m\u001b[0m\n\u001b[0m\u001b[1;32m   3890\u001b[0m \u001b[0;34m\u001b[0m\u001b[0m\n\u001b[1;32m   3891\u001b[0m         \u001b[0;32mif\u001b[0m \u001b[0minplace\u001b[0m\u001b[0;34m:\u001b[0m\u001b[0;34m\u001b[0m\u001b[0;34m\u001b[0m\u001b[0m\n",
            "\u001b[0;32m/usr/local/lib/python3.7/dist-packages/pandas/core/generic.py\u001b[0m in \u001b[0;36m_drop_axis\u001b[0;34m(self, labels, axis, level, errors)\u001b[0m\n\u001b[1;32m   3921\u001b[0m                 \u001b[0mnew_axis\u001b[0m \u001b[0;34m=\u001b[0m \u001b[0maxis\u001b[0m\u001b[0;34m.\u001b[0m\u001b[0mdrop\u001b[0m\u001b[0;34m(\u001b[0m\u001b[0mlabels\u001b[0m\u001b[0;34m,\u001b[0m \u001b[0mlevel\u001b[0m\u001b[0;34m=\u001b[0m\u001b[0mlevel\u001b[0m\u001b[0;34m,\u001b[0m \u001b[0merrors\u001b[0m\u001b[0;34m=\u001b[0m\u001b[0merrors\u001b[0m\u001b[0;34m)\u001b[0m\u001b[0;34m\u001b[0m\u001b[0;34m\u001b[0m\u001b[0m\n\u001b[1;32m   3922\u001b[0m             \u001b[0;32melse\u001b[0m\u001b[0;34m:\u001b[0m\u001b[0;34m\u001b[0m\u001b[0;34m\u001b[0m\u001b[0m\n\u001b[0;32m-> 3923\u001b[0;31m                 \u001b[0mnew_axis\u001b[0m \u001b[0;34m=\u001b[0m \u001b[0maxis\u001b[0m\u001b[0;34m.\u001b[0m\u001b[0mdrop\u001b[0m\u001b[0;34m(\u001b[0m\u001b[0mlabels\u001b[0m\u001b[0;34m,\u001b[0m \u001b[0merrors\u001b[0m\u001b[0;34m=\u001b[0m\u001b[0merrors\u001b[0m\u001b[0;34m)\u001b[0m\u001b[0;34m\u001b[0m\u001b[0;34m\u001b[0m\u001b[0m\n\u001b[0m\u001b[1;32m   3924\u001b[0m             \u001b[0mresult\u001b[0m \u001b[0;34m=\u001b[0m \u001b[0mself\u001b[0m\u001b[0;34m.\u001b[0m\u001b[0mreindex\u001b[0m\u001b[0;34m(\u001b[0m\u001b[0;34m**\u001b[0m\u001b[0;34m{\u001b[0m\u001b[0maxis_name\u001b[0m\u001b[0;34m:\u001b[0m \u001b[0mnew_axis\u001b[0m\u001b[0;34m}\u001b[0m\u001b[0;34m)\u001b[0m\u001b[0;34m\u001b[0m\u001b[0;34m\u001b[0m\u001b[0m\n\u001b[1;32m   3925\u001b[0m \u001b[0;34m\u001b[0m\u001b[0m\n",
            "\u001b[0;32m/usr/local/lib/python3.7/dist-packages/pandas/core/indexes/base.py\u001b[0m in \u001b[0;36mdrop\u001b[0;34m(self, labels, errors)\u001b[0m\n\u001b[1;32m   5285\u001b[0m         \u001b[0;32mif\u001b[0m \u001b[0mmask\u001b[0m\u001b[0;34m.\u001b[0m\u001b[0many\u001b[0m\u001b[0;34m(\u001b[0m\u001b[0;34m)\u001b[0m\u001b[0;34m:\u001b[0m\u001b[0;34m\u001b[0m\u001b[0;34m\u001b[0m\u001b[0m\n\u001b[1;32m   5286\u001b[0m             \u001b[0;32mif\u001b[0m \u001b[0merrors\u001b[0m \u001b[0;34m!=\u001b[0m \u001b[0;34m\"ignore\"\u001b[0m\u001b[0;34m:\u001b[0m\u001b[0;34m\u001b[0m\u001b[0;34m\u001b[0m\u001b[0m\n\u001b[0;32m-> 5287\u001b[0;31m                 \u001b[0;32mraise\u001b[0m \u001b[0mKeyError\u001b[0m\u001b[0;34m(\u001b[0m\u001b[0;34mf\"{labels[mask]} not found in axis\"\u001b[0m\u001b[0;34m)\u001b[0m\u001b[0;34m\u001b[0m\u001b[0;34m\u001b[0m\u001b[0m\n\u001b[0m\u001b[1;32m   5288\u001b[0m             \u001b[0mindexer\u001b[0m \u001b[0;34m=\u001b[0m \u001b[0mindexer\u001b[0m\u001b[0;34m[\u001b[0m\u001b[0;34m~\u001b[0m\u001b[0mmask\u001b[0m\u001b[0;34m]\u001b[0m\u001b[0;34m\u001b[0m\u001b[0;34m\u001b[0m\u001b[0m\n\u001b[1;32m   5289\u001b[0m         \u001b[0;32mreturn\u001b[0m \u001b[0mself\u001b[0m\u001b[0;34m.\u001b[0m\u001b[0mdelete\u001b[0m\u001b[0;34m(\u001b[0m\u001b[0mindexer\u001b[0m\u001b[0;34m)\u001b[0m\u001b[0;34m\u001b[0m\u001b[0;34m\u001b[0m\u001b[0m\n",
            "\u001b[0;31mKeyError\u001b[0m: \"['county_name'] not found in axis\""
          ]
        }
      ]
    },
    {
      "cell_type": "markdown",
      "metadata": {
        "id": "EgUA-_gtec_Y"
      },
      "source": [
        "**Dropping rows**\n",
        "\n",
        "The ```dropna()``` method is a great way to drop rows based on the presence of missing values in that row. \n",
        "\n",
        " For example, let's pretend that the stop_date and stop_time columns are critical to our analysis, and thus a row is useless to us without that data. We can tell pandas to drop all rows that have a missing value in either the stop_date or stop_time column. \n",
        " \n",
        " Because we specified a subset, the ```dropna()``` method only takes these two columns into account when deciding which rows to drop."
      ]
    },
    {
      "cell_type": "code",
      "metadata": {
        "id": "hkXH-DOQfCMN"
      },
      "source": [
        "ri.dropna(subset=['stop_date', 'stop_time'], inplace=True)\n",
        "\n"
      ],
      "execution_count": 8,
      "outputs": []
    },
    {
      "cell_type": "code",
      "metadata": {
        "id": "yLUDKWNdfubu"
      },
      "source": [
        "#Dropping state column - we are analyzing data from only one state\n",
        "ri.drop('state', \n",
        "axis='columns', inplace=True)"
      ],
      "execution_count": 10,
      "outputs": []
    },
    {
      "cell_type": "code",
      "metadata": {
        "colab": {
          "base_uri": "https://localhost:8080/"
        },
        "id": "ZaKe_dZUf2XA",
        "outputId": "8ab62d4c-de93-4c2c-df37-87e53c90a953"
      },
      "source": [
        "# Count the number of missing values in each column\n",
        "print(ri.isnull().sum())\n",
        "\n",
        "# Drop all rows that are missing 'driver_gender'\n",
        "ri.dropna(subset=['driver_gender'], inplace=True)\n",
        "\n",
        "# Count the number of missing values in each column (again)\n",
        "print(ri.isnull().sum())\n",
        "\n",
        "# Examine the shape of the DataFrame\n",
        "print(ri.shape)"
      ],
      "execution_count": 11,
      "outputs": [
        {
          "output_type": "stream",
          "name": "stdout",
          "text": [
            "stop_date                 0\n",
            "stop_time                 0\n",
            "driver_gender          5205\n",
            "driver_race            5202\n",
            "violation_raw          5202\n",
            "violation              5202\n",
            "search_conducted          0\n",
            "search_type           88434\n",
            "stop_outcome           5202\n",
            "is_arrested            5202\n",
            "stop_duration          5202\n",
            "drugs_related_stop        0\n",
            "district                  0\n",
            "dtype: int64\n",
            "stop_date                 0\n",
            "stop_time                 0\n",
            "driver_gender             0\n",
            "driver_race               0\n",
            "violation_raw             0\n",
            "violation                 0\n",
            "search_conducted          0\n",
            "search_type           83229\n",
            "stop_outcome              0\n",
            "is_arrested               0\n",
            "stop_duration             0\n",
            "drugs_related_stop        0\n",
            "district                  0\n",
            "dtype: int64\n",
            "(86536, 13)\n"
          ]
        }
      ]
    },
    {
      "cell_type": "markdown",
      "metadata": {
        "id": "thWRevXJgi3o"
      },
      "source": [
        "> Only one column 'search_type' remains with missing data, now\n",
        "\n",
        "###Using proper data types\n",
        "\n",
        "Let's take a look at the dtypes attribute of the DataFrame. "
      ]
    },
    {
      "cell_type": "code",
      "metadata": {
        "colab": {
          "base_uri": "https://localhost:8080/"
        },
        "id": "SubNQjaUiydB",
        "outputId": "7a800432-f3c6-4a0e-8d5e-daaf9b1d1152"
      },
      "source": [
        "ri.dtypes"
      ],
      "execution_count": 12,
      "outputs": [
        {
          "output_type": "execute_result",
          "data": {
            "text/plain": [
              "stop_date             object\n",
              "stop_time             object\n",
              "driver_gender         object\n",
              "driver_race           object\n",
              "violation_raw         object\n",
              "violation             object\n",
              "search_conducted        bool\n",
              "search_type           object\n",
              "stop_outcome          object\n",
              "is_arrested           object\n",
              "stop_duration         object\n",
              "drugs_related_stop      bool\n",
              "district              object\n",
              "dtype: object"
            ]
          },
          "metadata": {},
          "execution_count": 12
        }
      ]
    },
    {
      "cell_type": "markdown",
      "metadata": {
        "id": "YjjUM2Wli7WG"
      },
      "source": [
        "Every Series has a data type, which was automatically inferred by pandas when it was reading in the CSV file. \n",
        "\n",
        "> As we can see, the only data types currently in use are object and bool. \n",
        "\n",
        "* **The object data type** usually means that a Series is made up of Python strings, though it can indicate the presence of other Python objects such as lists. \n",
        "\n",
        "* **The bool data type** is short for Boolean, which means that a Series is made up of True and False values.\n",
        "\n",
        "* pandas also supports other data types, such as int for integers, float for floating point values, datetime for dates and times, and category for categorical variables.\n",
        "\n",
        "**Why do data types matter?**\n",
        "\n",
        " Data types matter mostly because they affect which operations you can perform on a given Series. In particular, it's beneficial not to store data as strings when possible. \n",
        " \n",
        " For example, mathematical operations can be performed on ints and floats, but those operations will fail if the numbers are stored as strings. \n",
        " \n",
        " * The datetime type enables a rich set of date-based attributes and methods that are not possible with strings. \n",
        " * The category data type results in less memory usage and faster processing than strings. And the bool data type enables logical and mathematical operations.\n",
        "\n",
        "**Fixing a data type**\n",
        "\n",
        "We can check the data type of the price Series using its dtype attribute. "
      ]
    },
    {
      "cell_type": "code",
      "metadata": {
        "colab": {
          "base_uri": "https://localhost:8080/"
        },
        "id": "ajwg8r-nk3GY",
        "outputId": "e0d2d30d-68af-4d10-d16c-6e14ba79ca07"
      },
      "source": [
        "ri.stop_time.dtype"
      ],
      "execution_count": 13,
      "outputs": [
        {
          "output_type": "execute_result",
          "data": {
            "text/plain": [
              "dtype('O')"
            ]
          },
          "metadata": {},
          "execution_count": 13
        }
      ]
    },
    {
      "cell_type": "markdown",
      "metadata": {
        "id": "yA6tee-nlFam"
      },
      "source": [
        "It reports a dtype of \"O\", which stands for object and means that the numbers are actually stored as strings.\n",
        "\n",
        "Let's take another look."
      ]
    },
    {
      "cell_type": "code",
      "metadata": {
        "colab": {
          "base_uri": "https://localhost:8080/"
        },
        "id": "a8BblwQflW9X",
        "outputId": "c32c29a5-0814-49eb-9ffc-171dac797057"
      },
      "source": [
        "ri.is_arrested.dtype"
      ],
      "execution_count": 14,
      "outputs": [
        {
          "output_type": "execute_result",
          "data": {
            "text/plain": [
              "dtype('O')"
            ]
          },
          "metadata": {},
          "execution_count": 14
        }
      ]
    },
    {
      "cell_type": "markdown",
      "metadata": {
        "id": "6a2axz9PlaoW"
      },
      "source": [
        "is_arrested Series should be of type bool. Let's change it to the right type.\n",
        "\n",
        "To change the data type of the is_arrested Series from object to bool, we can use the ```astype()``` method, to which you pass the new data type as an argument. Then, we simply overwrite the original Series."
      ]
    },
    {
      "cell_type": "code",
      "metadata": {
        "id": "X4tXt76RlyHu"
      },
      "source": [
        "ri['is_arrested'] = ri.is_arrested.astype('bool')"
      ],
      "execution_count": 16,
      "outputs": []
    },
    {
      "cell_type": "markdown",
      "metadata": {
        "id": "Sw7sVm3pmBvo"
      },
      "source": [
        "If we check the data type again, we can see that it has changed to bool."
      ]
    },
    {
      "cell_type": "code",
      "metadata": {
        "colab": {
          "base_uri": "https://localhost:8080/"
        },
        "id": "lXRTh5P7mEq2",
        "outputId": "72b7548a-aad7-40ec-bab3-066a8fdab381"
      },
      "source": [
        "ri.is_arrested.dtype"
      ],
      "execution_count": 17,
      "outputs": [
        {
          "output_type": "execute_result",
          "data": {
            "text/plain": [
              "dtype('bool')"
            ]
          },
          "metadata": {},
          "execution_count": 17
        }
      ]
    },
    {
      "cell_type": "markdown",
      "metadata": {
        "id": "RPSAaMpwmlYm"
      },
      "source": [
        "###Creating a DatetimeIndex\n",
        "\n",
        "Let's take a look at the head of the dataset again."
      ]
    },
    {
      "cell_type": "code",
      "metadata": {
        "colab": {
          "base_uri": "https://localhost:8080/",
          "height": 241
        },
        "id": "sLwzoYGioMGi",
        "outputId": "b2786d12-ea5f-486b-edcb-1255222ecba9"
      },
      "source": [
        "ri.head()"
      ],
      "execution_count": 19,
      "outputs": [
        {
          "output_type": "execute_result",
          "data": {
            "text/html": [
              "<div>\n",
              "<style scoped>\n",
              "    .dataframe tbody tr th:only-of-type {\n",
              "        vertical-align: middle;\n",
              "    }\n",
              "\n",
              "    .dataframe tbody tr th {\n",
              "        vertical-align: top;\n",
              "    }\n",
              "\n",
              "    .dataframe thead th {\n",
              "        text-align: right;\n",
              "    }\n",
              "</style>\n",
              "<table border=\"1\" class=\"dataframe\">\n",
              "  <thead>\n",
              "    <tr style=\"text-align: right;\">\n",
              "      <th></th>\n",
              "      <th>stop_date</th>\n",
              "      <th>stop_time</th>\n",
              "      <th>driver_gender</th>\n",
              "      <th>driver_race</th>\n",
              "      <th>violation_raw</th>\n",
              "      <th>violation</th>\n",
              "      <th>search_conducted</th>\n",
              "      <th>search_type</th>\n",
              "      <th>stop_outcome</th>\n",
              "      <th>is_arrested</th>\n",
              "      <th>stop_duration</th>\n",
              "      <th>drugs_related_stop</th>\n",
              "      <th>district</th>\n",
              "    </tr>\n",
              "  </thead>\n",
              "  <tbody>\n",
              "    <tr>\n",
              "      <th>0</th>\n",
              "      <td>2005-01-04</td>\n",
              "      <td>12:55</td>\n",
              "      <td>M</td>\n",
              "      <td>White</td>\n",
              "      <td>Equipment/Inspection Violation</td>\n",
              "      <td>Equipment</td>\n",
              "      <td>False</td>\n",
              "      <td>NaN</td>\n",
              "      <td>Citation</td>\n",
              "      <td>False</td>\n",
              "      <td>0-15 Min</td>\n",
              "      <td>False</td>\n",
              "      <td>Zone X4</td>\n",
              "    </tr>\n",
              "    <tr>\n",
              "      <th>1</th>\n",
              "      <td>2005-01-23</td>\n",
              "      <td>23:15</td>\n",
              "      <td>M</td>\n",
              "      <td>White</td>\n",
              "      <td>Speeding</td>\n",
              "      <td>Speeding</td>\n",
              "      <td>False</td>\n",
              "      <td>NaN</td>\n",
              "      <td>Citation</td>\n",
              "      <td>False</td>\n",
              "      <td>0-15 Min</td>\n",
              "      <td>False</td>\n",
              "      <td>Zone K3</td>\n",
              "    </tr>\n",
              "    <tr>\n",
              "      <th>2</th>\n",
              "      <td>2005-02-17</td>\n",
              "      <td>04:15</td>\n",
              "      <td>M</td>\n",
              "      <td>White</td>\n",
              "      <td>Speeding</td>\n",
              "      <td>Speeding</td>\n",
              "      <td>False</td>\n",
              "      <td>NaN</td>\n",
              "      <td>Citation</td>\n",
              "      <td>False</td>\n",
              "      <td>0-15 Min</td>\n",
              "      <td>False</td>\n",
              "      <td>Zone X4</td>\n",
              "    </tr>\n",
              "    <tr>\n",
              "      <th>3</th>\n",
              "      <td>2005-02-20</td>\n",
              "      <td>17:15</td>\n",
              "      <td>M</td>\n",
              "      <td>White</td>\n",
              "      <td>Call for Service</td>\n",
              "      <td>Other</td>\n",
              "      <td>False</td>\n",
              "      <td>NaN</td>\n",
              "      <td>Arrest Driver</td>\n",
              "      <td>True</td>\n",
              "      <td>16-30 Min</td>\n",
              "      <td>False</td>\n",
              "      <td>Zone X1</td>\n",
              "    </tr>\n",
              "    <tr>\n",
              "      <th>4</th>\n",
              "      <td>2005-02-24</td>\n",
              "      <td>01:20</td>\n",
              "      <td>F</td>\n",
              "      <td>White</td>\n",
              "      <td>Speeding</td>\n",
              "      <td>Speeding</td>\n",
              "      <td>False</td>\n",
              "      <td>NaN</td>\n",
              "      <td>Citation</td>\n",
              "      <td>False</td>\n",
              "      <td>0-15 Min</td>\n",
              "      <td>False</td>\n",
              "      <td>Zone X3</td>\n",
              "    </tr>\n",
              "  </tbody>\n",
              "</table>\n",
              "</div>"
            ],
            "text/plain": [
              "    stop_date stop_time  ... drugs_related_stop district\n",
              "0  2005-01-04     12:55  ...              False  Zone X4\n",
              "1  2005-01-23     23:15  ...              False  Zone K3\n",
              "2  2005-02-17     04:15  ...              False  Zone X4\n",
              "3  2005-02-20     17:15  ...              False  Zone X1\n",
              "4  2005-02-24     01:20  ...              False  Zone X3\n",
              "\n",
              "[5 rows x 13 columns]"
            ]
          },
          "metadata": {},
          "execution_count": 19
        }
      ]
    },
    {
      "cell_type": "markdown",
      "metadata": {
        "id": "A7NkL9vmoRJ2"
      },
      "source": [
        "The date and time of each traffic stop are stored in separate columns, both of which are object columns.\n",
        "\n",
        " Because we'll be using stop_date and stop_time in our analysis, we're going to combine these two columns into a single column and then convert it to pandas' datetime format. This will be beneficial because unlike object columns, datetime columns provide date-based attributes that will make our analysis easier.\n",
        "\n",
        "**Combining object columns**\n",
        "\n",
        "Date and time are stored in separate columns, so the first task is to combine these two columns using a string method.\n",
        "\n",
        "String methods, such as ```replace()```, are Series methods available via the str accessor.\n",
        "\n",
        "It outputs a new Series in which the string replacement has been made, though this change is temporary since we haven't saved the new Series.\n",
        "\n",
        "To combine the columns, we're going to use the ```str.cat()``` method, which is short for concatenate. We'll concatenate the date column with the time column, and tell pandas to separate them with a space, storing the result in a Series object named combined.\n",
        "\n",
        "\n"
      ]
    },
    {
      "cell_type": "code",
      "metadata": {
        "id": "v4FzNzQep1M4"
      },
      "source": [
        "combined = ri.stop_date.str.cat(ri.stop_time, sep=' ')"
      ],
      "execution_count": 21,
      "outputs": []
    },
    {
      "cell_type": "markdown",
      "metadata": {
        "id": "IZFdv97rp1b7"
      },
      "source": [
        "The combined Series contains both the date and time. It's still an object column, but it's now ready for conversion to datetime format.\n",
        "\n",
        "\n",
        " **Converting to datetime format**\n",
        "\n",
        " To convert the combined Series to datetime format, we simply pass it to the ```to_datetime()``` function, and store the result in a new column. \n",
        "\n",
        " "
      ]
    },
    {
      "cell_type": "code",
      "metadata": {
        "id": "rxfWzhs4qDWe"
      },
      "source": [
        "ri['stop_datetime'] = pd.to_datetime(combined)"
      ],
      "execution_count": 22,
      "outputs": []
    },
    {
      "cell_type": "code",
      "metadata": {
        "colab": {
          "base_uri": "https://localhost:8080/"
        },
        "id": "Q6L-mWwDuRZh",
        "outputId": "0a813942-d12e-4a9a-93d4-334d0d34040c"
      },
      "source": [
        "print(ri.dtypes)\n"
      ],
      "execution_count": 24,
      "outputs": [
        {
          "output_type": "stream",
          "name": "stdout",
          "text": [
            "stop_date                     object\n",
            "stop_time                     object\n",
            "driver_gender                 object\n",
            "driver_race                   object\n",
            "violation_raw                 object\n",
            "violation                     object\n",
            "search_conducted                bool\n",
            "search_type                   object\n",
            "stop_outcome                  object\n",
            "is_arrested                     bool\n",
            "stop_duration                 object\n",
            "drugs_related_stop              bool\n",
            "district                      object\n",
            "stop_datetime         datetime64[ns]\n",
            "dtype: object\n"
          ]
        }
      ]
    },
    {
      "cell_type": "markdown",
      "metadata": {
        "id": "kUz2zcDfqEKP"
      },
      "source": [
        "Looking at the updated DataFrame, we can see that the new column contains both the date and time, and that it is stored in a more standard way. From the dtypes attribute, we can see that the new data type of the new column is datetime, instead of object.\n",
        "\n",
        "**Setting the index**\n",
        "\n",
        "One final step that we'll take is to set the datetime column as the index. That will make it easier to filter the DataFrame by date, plot the data by date, and so on.\n",
        "\n",
        "We'll use the set_index() method, and specify that the operation should occur in place to avoid an assignment statement. "
      ]
    },
    {
      "cell_type": "code",
      "metadata": {
        "colab": {
          "base_uri": "https://localhost:8080/"
        },
        "id": "_cx4OIE5qgNv",
        "outputId": "21d1ac14-9938-4fb3-e39f-8d2020e86916"
      },
      "source": [
        "ri.set_index('stop_datetime', inplace=True)\n",
        "\n",
        "# Examine the index\n",
        "print(ri.index)\n",
        "\n",
        "# Examine the columns\n",
        "print(ri.columns)"
      ],
      "execution_count": 25,
      "outputs": [
        {
          "output_type": "stream",
          "name": "stdout",
          "text": [
            "DatetimeIndex(['2005-01-04 12:55:00', '2005-01-23 23:15:00',\n",
            "               '2005-02-17 04:15:00', '2005-02-20 17:15:00',\n",
            "               '2005-02-24 01:20:00', '2005-03-14 10:00:00',\n",
            "               '2005-03-29 21:55:00', '2005-04-04 21:25:00',\n",
            "               '2005-07-14 11:20:00', '2005-07-14 19:55:00',\n",
            "               ...\n",
            "               '2015-12-31 13:23:00', '2015-12-31 18:59:00',\n",
            "               '2015-12-31 19:13:00', '2015-12-31 20:20:00',\n",
            "               '2015-12-31 20:50:00', '2015-12-31 21:21:00',\n",
            "               '2015-12-31 21:59:00', '2015-12-31 22:04:00',\n",
            "               '2015-12-31 22:09:00', '2015-12-31 22:47:00'],\n",
            "              dtype='datetime64[ns]', name='stop_datetime', length=86536, freq=None)\n",
            "Index(['stop_date', 'stop_time', 'driver_gender', 'driver_race',\n",
            "       'violation_raw', 'violation', 'search_conducted', 'search_type',\n",
            "       'stop_outcome', 'is_arrested', 'stop_duration', 'drugs_related_stop',\n",
            "       'district'],\n",
            "      dtype='object')\n"
          ]
        }
      ]
    },
    {
      "cell_type": "markdown",
      "metadata": {
        "id": "C0Dt46WyqgpX"
      },
      "source": [
        "The default index has been replaced with the datetime column. And the index is now a special type called DatetimeIndex. \n",
        "\n",
        "**As a reminder, when an existing column becomes the index, it is no longer considered to be one of the DataFrame columns.**"
      ]
    },
    {
      "cell_type": "markdown",
      "metadata": {
        "id": "TlovM8usQcPM"
      },
      "source": [
        "##Exploring the relationship between gender and policing\n",
        "\n",
        "Does the gender of a driver have an impact on police behavior during a traffic stop? \n",
        "\n",
        "> explore that question while practicing filtering, grouping, method chaining, Boolean math, string methods, and more!\n",
        "\n",
        "###Do the genders commit different violations?\n",
        "\n",
        "Let's start by discussing a few methods that will help you with your analysis.\n",
        "\n",
        "The first method is ```value_counts()```, which counts the unique values in a Series. It's best suited for a column that contains categorical rather than numerical data.\n",
        "\n",
        "\n"
      ]
    },
    {
      "cell_type": "code",
      "metadata": {
        "colab": {
          "base_uri": "https://localhost:8080/"
        },
        "id": "_5-B2X7f23wZ",
        "outputId": "d83939f8-f91d-4130-d444-dc52438db133"
      },
      "source": [
        "ri.stop_outcome.value_counts()"
      ],
      "execution_count": 26,
      "outputs": [
        {
          "output_type": "execute_result",
          "data": {
            "text/plain": [
              "Citation            77091\n",
              "Warning              5136\n",
              "Arrest Driver        2735\n",
              "No Action             624\n",
              "N/D                   607\n",
              "Arrest Passenger      343\n",
              "Name: stop_outcome, dtype: int64"
            ]
          },
          "metadata": {},
          "execution_count": 26
        }
      ]
    },
    {
      "cell_type": "markdown",
      "metadata": {
        "id": "2oFESm1f3m7e"
      },
      "source": [
        " The results are displayed in descending order, so we can see that the most common outcome is a citation, also known as a ticket, and the second most common outcome is a warning.\n",
        "\n",
        " Because ```value_counts()``` outputs a pandas Series, you can take the sum of this Series by simply adding the ```sum()``` method on the end. This is known as method chaining."
      ]
    },
    {
      "cell_type": "code",
      "metadata": {
        "colab": {
          "base_uri": "https://localhost:8080/"
        },
        "id": "_5jS0YLJ4cX_",
        "outputId": "bc7c4f8d-7492-49dd-972c-60cce6c5c3e0"
      },
      "source": [
        "ri.stop_outcome.value_counts().sum()"
      ],
      "execution_count": 27,
      "outputs": [
        {
          "output_type": "execute_result",
          "data": {
            "text/plain": [
              "86536"
            ]
          },
          "metadata": {},
          "execution_count": 27
        }
      ]
    },
    {
      "cell_type": "markdown",
      "metadata": {
        "id": "w-FEoC1v4hLu"
      },
      "source": [
        "The ```sum()``` of the ```value_counts()``` is actually equal to the number of rows in the DataFrame, which will be the case for any Series that has no missing values.\n",
        "\n",
        "**Expressing counts as proportions**\n",
        "\n",
        "Rather than examining the raw counts, we might prefer to see the stop outcomes as proportions of the total. So if we wanted to know what percentage of traffic stops ended in a citation, we would divide the number of citations by the total number of outcomes and get 0.89, or 89%. \n"
      ]
    },
    {
      "cell_type": "code",
      "metadata": {
        "colab": {
          "base_uri": "https://localhost:8080/"
        },
        "id": "rk8OeKxY5fTO",
        "outputId": "6ee1a9ad-7cbd-4206-d078-8855665d991f"
      },
      "source": [
        "77091/86536"
      ],
      "execution_count": 28,
      "outputs": [
        {
          "output_type": "execute_result",
          "data": {
            "text/plain": [
              "0.8908546731995932"
            ]
          },
          "metadata": {},
          "execution_count": 28
        }
      ]
    },
    {
      "cell_type": "markdown",
      "metadata": {
        "id": "3zRbx8Ux5udf"
      },
      "source": [
        "\n",
        "Rather than doing these calculations manually, you can instead set the normalize parameter of ```value_counts()``` to be True, and it will output proportions instead of counts. \n"
      ]
    },
    {
      "cell_type": "code",
      "metadata": {
        "colab": {
          "base_uri": "https://localhost:8080/"
        },
        "id": "tCpnd2N15yB5",
        "outputId": "caea788e-05fc-4d18-f8fb-ef592f5efd9d"
      },
      "source": [
        "ri.stop_outcome.value_counts(normalize=True)"
      ],
      "execution_count": 29,
      "outputs": [
        {
          "output_type": "execute_result",
          "data": {
            "text/plain": [
              "Citation            0.890855\n",
              "Warning             0.059351\n",
              "Arrest Driver       0.031605\n",
              "No Action           0.007211\n",
              "N/D                 0.007014\n",
              "Arrest Passenger    0.003964\n",
              "Name: stop_outcome, dtype: float64"
            ]
          },
          "metadata": {},
          "execution_count": 29
        }
      ]
    },
    {
      "cell_type": "markdown",
      "metadata": {
        "id": "MoDzpHZ_5egv"
      },
      "source": [
        "\n",
        "Citations are 89%, warnings are 6%, driver arrests are 3%, and so on.\n",
        "\n",
        "**Filtering DataFrame rows**\n",
        "\n",
        "Let's now take a look at the value_counts() for a different column, driver_race."
      ]
    },
    {
      "cell_type": "code",
      "metadata": {
        "colab": {
          "base_uri": "https://localhost:8080/"
        },
        "id": "O6MBdCgy95xf",
        "outputId": "f26b7483-40f7-4691-f89b-3bf44529807a"
      },
      "source": [
        "ri.driver_race.value_counts()"
      ],
      "execution_count": 30,
      "outputs": [
        {
          "output_type": "execute_result",
          "data": {
            "text/plain": [
              "White       61870\n",
              "Black       12285\n",
              "Hispanic     9727\n",
              "Asian        2389\n",
              "Other         265\n",
              "Name: driver_race, dtype: int64"
            ]
          },
          "metadata": {},
          "execution_count": 30
        }
      ]
    },
    {
      "cell_type": "markdown",
      "metadata": {
        "id": "z5dcWxWy988_"
      },
      "source": [
        "There are five unique categories present.\n",
        "\n",
        "If we wanted to filter the DataFrame to only include drivers of a particular race, such as White, we would write that as a condition and put it inside brackets. We'll save the result in a new object."
      ]
    },
    {
      "cell_type": "code",
      "metadata": {
        "colab": {
          "base_uri": "https://localhost:8080/"
        },
        "id": "W5zNtQU4-1f_",
        "outputId": "e83e07c1-063e-4966-b59f-cebb193046e2"
      },
      "source": [
        "white = ri[ri.driver_race == 'White']\n",
        "print(white.head())"
      ],
      "execution_count": 31,
      "outputs": [
        {
          "output_type": "stream",
          "name": "stdout",
          "text": [
            "                      stop_date stop_time  ... drugs_related_stop district\n",
            "stop_datetime                              ...                            \n",
            "2005-01-04 12:55:00  2005-01-04     12:55  ...              False  Zone X4\n",
            "2005-01-23 23:15:00  2005-01-23     23:15  ...              False  Zone K3\n",
            "2005-02-17 04:15:00  2005-02-17     04:15  ...              False  Zone X4\n",
            "2005-02-20 17:15:00  2005-02-20     17:15  ...              False  Zone X1\n",
            "2005-02-24 01:20:00  2005-02-24     01:20  ...              False  Zone X3\n",
            "\n",
            "[5 rows x 13 columns]\n"
          ]
        }
      ]
    },
    {
      "cell_type": "code",
      "metadata": {
        "colab": {
          "base_uri": "https://localhost:8080/"
        },
        "id": "Rmi281Vl_D3A",
        "outputId": "c31293ad-5ba6-4bcb-d82f-411c2bd0cdb0"
      },
      "source": [
        "white.shape"
      ],
      "execution_count": 32,
      "outputs": [
        {
          "output_type": "execute_result",
          "data": {
            "text/plain": [
              "(61870, 13)"
            ]
          },
          "metadata": {},
          "execution_count": 32
        }
      ]
    },
    {
      "cell_type": "markdown",
      "metadata": {
        "id": "KivuCLYP-8V4"
      },
      "source": [
        "The shape of the new DataFrame is 61,870 rows, because that's the number of White drivers in the dataset, and 13 columns. We can now analyze this smaller DataFrame separately.\n",
        "\n",
        "**Comparing stop outcomes for two groups**\n",
        "\n",
        "We can repeat the analysis of stop outcomes, but focus on White drivers only. Like before, we select the stop_outcome column and then chain the ```value_counts()``` method on the end. "
      ]
    },
    {
      "cell_type": "code",
      "metadata": {
        "colab": {
          "base_uri": "https://localhost:8080/"
        },
        "id": "T9VBCi2K_66p",
        "outputId": "2d801a2b-9e0f-4c45-e67c-ba5028461f1f"
      },
      "source": [
        "white.stop_outcome.value_counts(\n",
        "normalize=True)"
      ],
      "execution_count": 33,
      "outputs": [
        {
          "output_type": "execute_result",
          "data": {
            "text/plain": [
              "Citation            0.902263\n",
              "Warning             0.057508\n",
              "Arrest Driver       0.024018\n",
              "No Action           0.007031\n",
              "N/D                 0.006433\n",
              "Arrest Passenger    0.002748\n",
              "Name: stop_outcome, dtype: float64"
            ]
          },
          "metadata": {},
          "execution_count": 33
        }
      ]
    },
    {
      "cell_type": "markdown",
      "metadata": {
        "id": "3Ze-CNEqAAxw"
      },
      "source": [
        "We could compare these results with the outcomes for another race, such as Asian, simply by changing the condition inside the brackets and then repeating the calculation. \n",
        "\n",
        "\n"
      ]
    },
    {
      "cell_type": "code",
      "metadata": {
        "colab": {
          "base_uri": "https://localhost:8080/"
        },
        "id": "-eD4Dmh5AOO_",
        "outputId": "efe66ba2-0631-46d2-a9b0-28ff232d9abf"
      },
      "source": [
        "asian = ri[ri.driver_race == 'Asian']\n",
        "asian.stop_outcome.value_counts(normalize=True)"
      ],
      "execution_count": 34,
      "outputs": [
        {
          "output_type": "execute_result",
          "data": {
            "text/plain": [
              "Citation            0.922980\n",
              "Warning             0.045207\n",
              "Arrest Driver       0.017581\n",
              "No Action           0.008372\n",
              "N/D                 0.004186\n",
              "Arrest Passenger    0.001674\n",
              "Name: stop_outcome, dtype: float64"
            ]
          },
          "metadata": {},
          "execution_count": 34
        }
      ]
    },
    {
      "cell_type": "markdown",
      "metadata": {
        "id": "yO6nDSI3ANav"
      },
      "source": [
        "If we compare these two sets of numbers, we can see that the stop outcomes are fairly similar for these two groups.\n",
        "\n",
        "\n",
        "**Examining traffic violations**\n",
        "\n",
        "Before comparing the violations being committed by each gender, we should examine the violations committed by all drivers to get a baseline understanding of the data.\n",
        "\n",
        "Let's count the unique values in the violation column, and then separately express those counts as proportions."
      ]
    },
    {
      "cell_type": "code",
      "metadata": {
        "colab": {
          "base_uri": "https://localhost:8080/"
        },
        "id": "zIbPGJjUBQuk",
        "outputId": "071c279f-2635-48a9-e088-05ae6293f5c2"
      },
      "source": [
        "# Count the unique values in 'violation'\n",
        "print(ri.violation.value_counts())\n",
        "\n",
        "# Express the counts as proportions\n",
        "print(ri.violation.value_counts(normalize=True))"
      ],
      "execution_count": 35,
      "outputs": [
        {
          "output_type": "stream",
          "name": "stdout",
          "text": [
            "Speeding               48423\n",
            "Moving violation       16224\n",
            "Equipment              10921\n",
            "Other                   4409\n",
            "Registration/plates     3703\n",
            "Seat belt               2856\n",
            "Name: violation, dtype: int64\n",
            "Speeding               0.559571\n",
            "Moving violation       0.187483\n",
            "Equipment              0.126202\n",
            "Other                  0.050950\n",
            "Registration/plates    0.042791\n",
            "Seat belt              0.033004\n",
            "Name: violation, dtype: float64\n"
          ]
        }
      ]
    },
    {
      "cell_type": "markdown",
      "metadata": {
        "id": "YvdTYXWIBmsP"
      },
      "source": [
        "**Comparing violations by gender**\n",
        "\n"
      ]
    },
    {
      "cell_type": "code",
      "metadata": {
        "colab": {
          "base_uri": "https://localhost:8080/"
        },
        "id": "139CJxRBB7-4",
        "outputId": "99c45041-638a-423d-94b4-eecbdf312c31"
      },
      "source": [
        "# Create a DataFrame of female drivers\n",
        "female = ri[ri.driver_gender == 'F']\n",
        "\n",
        "# Create a DataFrame of male drivers\n",
        "male = ri[ri.driver_gender == 'M']\n",
        "\n",
        "# Compute the violations by female drivers (as proportions)\n",
        "print(female.violation.value_counts(normalize=True))\n",
        "\n",
        "# Compute the violations by male drivers (as proportions)\n",
        "print(male.violation.value_counts(normalize=True))"
      ],
      "execution_count": 44,
      "outputs": [
        {
          "output_type": "stream",
          "name": "stdout",
          "text": [
            "Speeding               0.658114\n",
            "Moving violation       0.138218\n",
            "Equipment              0.105199\n",
            "Registration/plates    0.044418\n",
            "Other                  0.029738\n",
            "Seat belt              0.024312\n",
            "Name: violation, dtype: float64\n",
            "Speeding               0.522243\n",
            "Moving violation       0.206144\n",
            "Equipment              0.134158\n",
            "Other                  0.058985\n",
            "Registration/plates    0.042175\n",
            "Seat belt              0.036296\n",
            "Name: violation, dtype: float64\n"
          ]
        }
      ]
    },
    {
      "cell_type": "markdown",
      "metadata": {
        "id": "YdACGkksCpyX"
      },
      "source": [
        "> About two-thirds of female traffic stops are for speeding, whereas stops of males are more balanced among the six categories. This doesn't mean that females speed more often than males, however, since we didn't take into account the number of stops or drivers.\n",
        "\n",
        "###Does gender affect who gets a ticket for speeding?\n",
        "\n",
        "In the last section, we compared the traffic violations committed by each gender. In this section, we'll narrow our focus to the relationship between gender and stop outcomes for one specific violation, namely speeding.\n",
        "\n",
        "**Filtering by multiple conditions**\n",
        "\n",
        "We'll need to use one additional technique for this analysis, namely filtering a DataFrame by multiple conditions. \n",
        "\n",
        " In the last exercise, we used a single condition, driver_gender equals F, to create a DataFrame of female drivers. It has 23,774 rows because that's the number of rows in the ri DataFrame that satisfy this condition."
      ]
    },
    {
      "cell_type": "code",
      "metadata": {
        "colab": {
          "base_uri": "https://localhost:8080/"
        },
        "id": "SA9W1p_lDdSI",
        "outputId": "dcfbf59d-b37b-41ca-b06d-3e90d3e8aeab"
      },
      "source": [
        "female = ri[ri.driver_gender == 'F']\n",
        "\n",
        "female.shape"
      ],
      "execution_count": 38,
      "outputs": [
        {
          "output_type": "execute_result",
          "data": {
            "text/plain": [
              "(23774, 13)"
            ]
          },
          "metadata": {},
          "execution_count": 38
        }
      ]
    },
    {
      "cell_type": "markdown",
      "metadata": {
        "id": "SnauldEbDton"
      },
      "source": [
        "What if we wanted to create a second DataFrame of female drivers, but only those who were arrested?\n",
        "\n",
        "We simply add a second condition to the filter, namely that the is_arrested column equals True. "
      ]
    },
    {
      "cell_type": "code",
      "metadata": {
        "id": "-vHzeuWrHfqy"
      },
      "source": [
        "female_and_arrested = ri[(ri.driver_gender == 'F') & (ri.is_arrested == True)]"
      ],
      "execution_count": 39,
      "outputs": []
    },
    {
      "cell_type": "markdown",
      "metadata": {
        "id": "RctyKx8OHpig"
      },
      "source": [
        "Each condition is surrounded by parentheses, and there is an ampersand between the two conditions, which represents the logical AND operator. "
      ]
    },
    {
      "cell_type": "code",
      "metadata": {
        "colab": {
          "base_uri": "https://localhost:8080/"
        },
        "id": "ziQnYw8xHr3n",
        "outputId": "f3434f29-b711-48a2-9e86-790e8f95e97a"
      },
      "source": [
        "female_and_arrested.shape"
      ],
      "execution_count": 40,
      "outputs": [
        {
          "output_type": "execute_result",
          "data": {
            "text/plain": [
              "(669, 13)"
            ]
          },
          "metadata": {},
          "execution_count": 40
        }
      ]
    },
    {
      "cell_type": "markdown",
      "metadata": {
        "id": "rXwcBJxKHvQX"
      },
      "source": [
        "The second DataFrame is much smaller because it only includes rows that satisfy both conditions, meaning that it only includes female drivers who were also arrested.\n",
        "\n",
        "When filtering a DataFrame by multiple conditions, another option is to use the vertical pipe character between the two conditions. The pipe represents the logical OR operator, which indicates that a row should be included in the DataFrame if it meets either condition. "
      ]
    },
    {
      "cell_type": "code",
      "metadata": {
        "colab": {
          "base_uri": "https://localhost:8080/"
        },
        "id": "iJZXHg8KH8xI",
        "outputId": "1b33d0df-d3a4-452a-8145-584a9eea2465"
      },
      "source": [
        "female_or_arrested = ri[(ri.driver_gender == 'F') | (ri.is_arrested == True)]\n",
        "female_or_arrested.shape"
      ],
      "execution_count": 42,
      "outputs": [
        {
          "output_type": "execute_result",
          "data": {
            "text/plain": [
              "(26183, 13)"
            ]
          },
          "metadata": {},
          "execution_count": 42
        }
      ]
    },
    {
      "cell_type": "markdown",
      "metadata": {
        "id": "eo0UzzSyH-un"
      },
      "source": [
        "This DataFrame is larger than the last one because it includes all females regardless of whether they were arrested, as well as all drivers who were arrested, regardless of whether they are female.\n",
        "\n",
        "**Rules for filtering by multiple conditions**\n",
        "\n",
        "![image.png](data:image/png;base64,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)"
      ]
    },
    {
      "cell_type": "markdown",
      "metadata": {
        "id": "BQjShGjwISpj"
      },
      "source": [
        "**Comparing speeding outcomes by gender**\n",
        "\n",
        "When a driver is pulled over for speeding, many people believe that gender has an impact on whether the driver will receive a ticket or a warning. Can we find evidence of this in the dataset?\n",
        "\n",
        "\n"
      ]
    },
    {
      "cell_type": "code",
      "metadata": {
        "colab": {
          "base_uri": "https://localhost:8080/"
        },
        "id": "yb_CPXqiItog",
        "outputId": "18324ce9-bf81-45b0-cda2-2723c63e0fb7"
      },
      "source": [
        "# Create a DataFrame of female drivers stopped for speeding\n",
        "female_and_speeding = ri[(ri.driver_gender == 'F') &\n",
        "(ri.violation == 'Speeding')]\n",
        "\n",
        "# Create a DataFrame of male drivers stopped for speeding\n",
        "male_and_speeding = ri[(ri.driver_gender == 'M') &\n",
        "(ri.violation == 'Speeding')]\n",
        "\n",
        "# Compute the stop outcomes for female drivers (as proportions)\n",
        "print(female_and_speeding.stop_outcome.value_counts(normalize=True))\n",
        "\n",
        "# Compute the stop outcomes for male drivers (as proportions)\n",
        "print(male_and_speeding.stop_outcome.value_counts(normalize=True))"
      ],
      "execution_count": 43,
      "outputs": [
        {
          "output_type": "stream",
          "name": "stdout",
          "text": [
            "Citation            0.952192\n",
            "Warning             0.040074\n",
            "Arrest Driver       0.005752\n",
            "N/D                 0.000959\n",
            "Arrest Passenger    0.000639\n",
            "No Action           0.000383\n",
            "Name: stop_outcome, dtype: float64\n",
            "Citation            0.944595\n",
            "Warning             0.036184\n",
            "Arrest Driver       0.015895\n",
            "Arrest Passenger    0.001281\n",
            "No Action           0.001068\n",
            "N/D                 0.000976\n",
            "Name: stop_outcome, dtype: float64\n"
          ]
        }
      ]
    },
    {
      "cell_type": "markdown",
      "metadata": {
        "id": "6REiZpoIK2nB"
      },
      "source": [
        "> The numbers are similar for males and females: about 95% of stops for speeding result in a ticket. Thus, the data fails to show that gender has an impact on who gets a ticket for speeding.\n",
        "\n",
        "###Does gender affect whose vehicle is searched?\n",
        "\n",
        "During a traffic stop, the police officer sometimes conducts a search of the vehicle. Does the driver's gender affect whether their vehicle is searched? \n",
        "\n",
        "**Math with Boolean values**\n",
        "\n",
        "We can perform mathematical operations on Boolean values. For example, you previously used the ```isnull()``` method to generate a DataFrame of True and False values, and then took the ```sum()``` to count the missing values in each column. \n",
        "\n"
      ]
    },
    {
      "cell_type": "code",
      "metadata": {
        "colab": {
          "base_uri": "https://localhost:8080/"
        },
        "id": "sa7iNeOSPB5h",
        "outputId": "b571be6d-f31a-47a3-b9cf-878a2b80c3c0"
      },
      "source": [
        "ri.isnull().sum()"
      ],
      "execution_count": 45,
      "outputs": [
        {
          "output_type": "execute_result",
          "data": {
            "text/plain": [
              "stop_date                 0\n",
              "stop_time                 0\n",
              "driver_gender             0\n",
              "driver_race               0\n",
              "violation_raw             0\n",
              "violation                 0\n",
              "search_conducted          0\n",
              "search_type           83229\n",
              "stop_outcome              0\n",
              "is_arrested               0\n",
              "stop_duration             0\n",
              "drugs_related_stop        0\n",
              "district                  0\n",
              "dtype: int64"
            ]
          },
          "metadata": {},
          "execution_count": 45
        }
      ]
    },
    {
      "cell_type": "markdown",
      "metadata": {
        "id": "M9X_OAYFPDMQ"
      },
      "source": [
        "This worked because True values were treated as ones and False values were treated as zeros. \n",
        "\n",
        "Now we'll use the NumPy library to demonstrate a different operation, namely the mean. If we take the ```mean()``` of the list 0 1 0 0 we'll get 0.25, calculated as 1 divided by 4.\n"
      ]
    },
    {
      "cell_type": "code",
      "metadata": {
        "colab": {
          "base_uri": "https://localhost:8080/"
        },
        "id": "eRdnWqUtPfrI",
        "outputId": "dcc3ba5e-714f-4a09-891a-7ba708ee2ecb"
      },
      "source": [
        "import numpy as np\n",
        "np.mean([0, 1, 0, 0])"
      ],
      "execution_count": 46,
      "outputs": [
        {
          "output_type": "execute_result",
          "data": {
            "text/plain": [
              "0.25"
            ]
          },
          "metadata": {},
          "execution_count": 46
        }
      ]
    },
    {
      "cell_type": "markdown",
      "metadata": {
        "id": "7ycyubqWPnkA"
      },
      "source": [
        " Similarly, if you take the ```mean()``` of the list False True False False, you'll also get 0.25. \n"
      ]
    },
    {
      "cell_type": "code",
      "metadata": {
        "colab": {
          "base_uri": "https://localhost:8080/"
        },
        "id": "p9TCnuh3PpLx",
        "outputId": "4ec71632-c50a-4096-bc34-702bf87ca060"
      },
      "source": [
        "np.mean([False, True, False, False])"
      ],
      "execution_count": 47,
      "outputs": [
        {
          "output_type": "execute_result",
          "data": {
            "text/plain": [
              "0.25"
            ]
          },
          "metadata": {},
          "execution_count": 47
        }
      ]
    },
    {
      "cell_type": "markdown",
      "metadata": {
        "id": "7hVzbyRePesp"
      },
      "source": [
        " the mean of a Boolean Series represents the percentage of values that are True.\n",
        "\n",
        " **Taking the mean of a Boolean Series**\n",
        "\n",
        "Let's see a real example of why it's useful to be able to take the mean of a Boolean Series. We'll first calculate the percentage of stops that result in an arrest using the ```value_counts()``` method. "
      ]
    },
    {
      "cell_type": "code",
      "metadata": {
        "colab": {
          "base_uri": "https://localhost:8080/"
        },
        "id": "OmL2n8cpP6Gi",
        "outputId": "fe844519-658b-45d8-ebf4-b41972751f65"
      },
      "source": [
        "ri.is_arrested.value_counts(normalize=True)"
      ],
      "execution_count": 48,
      "outputs": [
        {
          "output_type": "execute_result",
          "data": {
            "text/plain": [
              "False    0.964431\n",
              "True     0.035569\n",
              "Name: is_arrested, dtype: float64"
            ]
          },
          "metadata": {},
          "execution_count": 48
        }
      ]
    },
    {
      "cell_type": "markdown",
      "metadata": {
        "id": "VJSxw5n_QDBY"
      },
      "source": [
        " The arrest rate is around 3.6% since that's the percentage of True values. This would work on an object column or a Boolean column."
      ]
    },
    {
      "cell_type": "code",
      "metadata": {
        "colab": {
          "base_uri": "https://localhost:8080/"
        },
        "id": "ARTAAO8PQF0w",
        "outputId": "e7f84b0b-27c3-497f-f12c-16a53e0647de"
      },
      "source": [
        "ri.is_arrested.dtype"
      ],
      "execution_count": 50,
      "outputs": [
        {
          "output_type": "execute_result",
          "data": {
            "text/plain": [
              "dtype('bool')"
            ]
          },
          "metadata": {},
          "execution_count": 50
        }
      ]
    },
    {
      "cell_type": "markdown",
      "metadata": {
        "id": "MiezjIccQTHZ"
      },
      "source": [
        " But we can get the same result more easily by taking the ```mean()``` of the is_arrested Series. "
      ]
    },
    {
      "cell_type": "code",
      "metadata": {
        "colab": {
          "base_uri": "https://localhost:8080/"
        },
        "id": "llUzhOwnP8tn",
        "outputId": "30787bea-ed64-404e-de49-ee6d83660fd2"
      },
      "source": [
        "ri.is_arrested.mean()"
      ],
      "execution_count": 49,
      "outputs": [
        {
          "output_type": "execute_result",
          "data": {
            "text/plain": [
              "0.0355690117407784"
            ]
          },
          "metadata": {},
          "execution_count": 49
        }
      ]
    },
    {
      "cell_type": "markdown",
      "metadata": {
        "id": "O5OjEkmzQaVJ"
      },
      "source": [
        " **Comparing groups using groupby**\n",
        "\n",
        " The second technique we'll review is ```groupby()```.\n",
        "\n",
        "Let's pretend that we want to study the arrest rate by police district. We can see that there are six districts by using the Series method ```unique()```."
      ]
    },
    {
      "cell_type": "code",
      "metadata": {
        "colab": {
          "base_uri": "https://localhost:8080/"
        },
        "id": "2jUyzOq2Rpsk",
        "outputId": "6ee5857b-2cfc-4b3e-ca86-8285871b4180"
      },
      "source": [
        "ri.district.unique()"
      ],
      "execution_count": 51,
      "outputs": [
        {
          "output_type": "execute_result",
          "data": {
            "text/plain": [
              "array(['Zone X4', 'Zone K3', 'Zone X1', 'Zone X3', 'Zone K1', 'Zone K2'],\n",
              "      dtype=object)"
            ]
          },
          "metadata": {},
          "execution_count": 51
        }
      ]
    },
    {
      "cell_type": "markdown",
      "metadata": {
        "id": "mFLfB-oCR1SY"
      },
      "source": [
        "One approach we've used to compare groups is to filter the DataFrame by each group, and then perform a calculation on each subset. \n",
        "\n",
        "So to calculate the arrest rate in Zone K1, we would filter by that district, select the is_arrested column, and then take the ```mean()```. "
      ]
    },
    {
      "cell_type": "code",
      "metadata": {
        "colab": {
          "base_uri": "https://localhost:8080/"
        },
        "id": "CLXewZAoR7D2",
        "outputId": "e50a283a-ce17-4821-91d6-b123069006b9"
      },
      "source": [
        "ri[ri.district == 'Zone K1'].is_arrested.mean()"
      ],
      "execution_count": 52,
      "outputs": [
        {
          "output_type": "execute_result",
          "data": {
            "text/plain": [
              "0.024349083895853423"
            ]
          },
          "metadata": {},
          "execution_count": 52
        }
      ]
    },
    {
      "cell_type": "markdown",
      "metadata": {
        "id": "2Q1xWjTZR9h6"
      },
      "source": [
        "The arrest rate is about 2.4%, which is lower than the overall arrest rate of 3.6%."
      ]
    },
    {
      "cell_type": "code",
      "metadata": {
        "colab": {
          "base_uri": "https://localhost:8080/"
        },
        "id": "UFsz33IPSEjh",
        "outputId": "7db78d2d-ea22-49f0-fbb0-97174b2bdce1"
      },
      "source": [
        "ri[ri.district == 'Zone K2'].is_arrested.mean()"
      ],
      "execution_count": 53,
      "outputs": [
        {
          "output_type": "execute_result",
          "data": {
            "text/plain": [
              "0.030800588834786546"
            ]
          },
          "metadata": {},
          "execution_count": 53
        }
      ]
    },
    {
      "cell_type": "markdown",
      "metadata": {
        "id": "uJah_nGeSF0Y"
      },
      "source": [
        "The arrest rate in Zone K2, which is about 3.1%.\n",
        "\n",
        "More efficient way to this - rather than calculate the mean of all six districts - is to perform the same calculation for all districts at once."
      ]
    },
    {
      "cell_type": "code",
      "metadata": {
        "colab": {
          "base_uri": "https://localhost:8080/"
        },
        "id": "r193ihmVSXnR",
        "outputId": "f4adc149-c276-414c-9b19-8afd339091d0"
      },
      "source": [
        "ri.groupby('district').is_arrested.mean()"
      ],
      "execution_count": 54,
      "outputs": [
        {
          "output_type": "execute_result",
          "data": {
            "text/plain": [
              "district\n",
              "Zone K1    0.024349\n",
              "Zone K2    0.030801\n",
              "Zone K3    0.032311\n",
              "Zone X1    0.023494\n",
              "Zone X3    0.034871\n",
              "Zone X4    0.048038\n",
              "Name: is_arrested, dtype: float64"
            ]
          },
          "metadata": {},
          "execution_count": 54
        }
      ]
    },
    {
      "cell_type": "markdown",
      "metadata": {
        "id": "CZ0grNuvSbFJ"
      },
      "source": [
        "There is a noticeably higher arrest rate in Zone X4.\n",
        "\n",
        "**Grouping by multiple categories**\n",
        "\n",
        "We can group by district and gender by passing it as a list of strings."
      ]
    },
    {
      "cell_type": "code",
      "metadata": {
        "colab": {
          "base_uri": "https://localhost:8080/"
        },
        "id": "-Hd57tpWSuBo",
        "outputId": "5e95480a-6386-4e45-c8b5-fd75d0e7798b"
      },
      "source": [
        "ri.groupby(['district', 'driver_gender']).is_arrested.mean()"
      ],
      "execution_count": 55,
      "outputs": [
        {
          "output_type": "execute_result",
          "data": {
            "text/plain": [
              "district  driver_gender\n",
              "Zone K1   F                0.019169\n",
              "          M                0.026588\n",
              "Zone K2   F                0.022196\n",
              "          M                0.034285\n",
              "Zone K3   F                0.025156\n",
              "          M                0.034961\n",
              "Zone X1   F                0.019646\n",
              "          M                0.024563\n",
              "Zone X3   F                0.027188\n",
              "          M                0.038166\n",
              "Zone X4   F                0.042149\n",
              "          M                0.049956\n",
              "Name: is_arrested, dtype: float64"
            ]
          },
          "metadata": {},
          "execution_count": 55
        }
      ]
    },
    {
      "cell_type": "markdown",
      "metadata": {
        "id": "cbgjEBRKS33h"
      },
      "source": [
        "This computes the arrest rate for every combination of district and gender. In other words, we can see the arrest rate for males and females in each district separately. \n",
        "\n",
        "If we reverse the ordering of the items in the list, grouping first by gender and then by district, the calculations will be the same but the presentation of the results will be different. "
      ]
    },
    {
      "cell_type": "code",
      "metadata": {
        "colab": {
          "base_uri": "https://localhost:8080/"
        },
        "id": "hlY_lH9KTBjC",
        "outputId": "f7eae023-d631-4dc0-fcb9-85f49ca71268"
      },
      "source": [
        "ri.groupby(['driver_gender', 'district']).is_arrested.mean()"
      ],
      "execution_count": 56,
      "outputs": [
        {
          "output_type": "execute_result",
          "data": {
            "text/plain": [
              "driver_gender  district\n",
              "F              Zone K1     0.019169\n",
              "               Zone K2     0.022196\n",
              "               Zone K3     0.025156\n",
              "               Zone X1     0.019646\n",
              "               Zone X3     0.027188\n",
              "               Zone X4     0.042149\n",
              "M              Zone K1     0.026588\n",
              "               Zone K2     0.034285\n",
              "               Zone K3     0.034961\n",
              "               Zone X1     0.024563\n",
              "               Zone X3     0.038166\n",
              "               Zone X4     0.049956\n",
              "Name: is_arrested, dtype: float64"
            ]
          },
          "metadata": {},
          "execution_count": 56
        }
      ]
    },
    {
      "cell_type": "markdown",
      "metadata": {
        "id": "KkMHx--4TIuI"
      },
      "source": [
        "**Calculating the search rate**\n",
        "\n",
        "Checking the data type of search_conducted to confirm that it's a Boolean Series."
      ]
    },
    {
      "cell_type": "code",
      "metadata": {
        "colab": {
          "base_uri": "https://localhost:8080/"
        },
        "id": "JDTNTvccTfo7",
        "outputId": "e844a5a0-643f-4aff-c155-ef33d6867711"
      },
      "source": [
        "print(ri.search_conducted.dtype)"
      ],
      "execution_count": 57,
      "outputs": [
        {
          "output_type": "stream",
          "name": "stdout",
          "text": [
            "bool\n"
          ]
        }
      ]
    },
    {
      "cell_type": "markdown",
      "metadata": {
        "id": "EbBaW8XtTkMH"
      },
      "source": [
        "Calculating the search rate by counting the Series values and expressing them as proportions."
      ]
    },
    {
      "cell_type": "code",
      "metadata": {
        "id": "nhLWLqTZTnPX"
      },
      "source": [
        "print(ri.search_conducted.value_counts(normalize=True))"
      ],
      "execution_count": null,
      "outputs": []
    },
    {
      "cell_type": "markdown",
      "metadata": {
        "id": "wXwPFELMTzGE"
      },
      "source": [
        "Calculating the search rate by taking the mean of the Series. (It should match the proportion of True values calculated above.)"
      ]
    },
    {
      "cell_type": "code",
      "metadata": {
        "colab": {
          "base_uri": "https://localhost:8080/"
        },
        "id": "pc4wXp91T3XJ",
        "outputId": "5a026aa2-735c-4b22-cbef-27277a5a56ac"
      },
      "source": [
        "print(ri.search_conducted.mean())"
      ],
      "execution_count": 58,
      "outputs": [
        {
          "output_type": "stream",
          "name": "stdout",
          "text": [
            "0.0382153092354627\n"
          ]
        }
      ]
    },
    {
      "cell_type": "markdown",
      "metadata": {
        "id": "ElzcmfyRT8YS"
      },
      "source": [
        "> It looks like the search rate is about 3.8%. \n",
        "\n",
        "**Comparing search rates by gender**\n",
        "\n",
        "Comparing the rates at which female and male drivers are searched during a traffic stop. \n",
        "\n",
        "Filtering the DataFrame to only include female drivers, and then calculating the search rate by taking the mean of search_conducted."
      ]
    },
    {
      "cell_type": "code",
      "metadata": {
        "colab": {
          "base_uri": "https://localhost:8080/"
        },
        "id": "-F-pHZHsUK9R",
        "outputId": "20395c8c-f7f1-4c90-d620-caf5d6e132b0"
      },
      "source": [
        "print(ri[ri.driver_gender == 'F'].search_conducted.mean())"
      ],
      "execution_count": 59,
      "outputs": [
        {
          "output_type": "stream",
          "name": "stdout",
          "text": [
            "0.019180617481282074\n"
          ]
        }
      ]
    },
    {
      "cell_type": "markdown",
      "metadata": {
        "id": "mZk62FgeUiBX"
      },
      "source": [
        "Filtering the DataFrame to only include male drivers, and then repeating the search rate calculation."
      ]
    },
    {
      "cell_type": "code",
      "metadata": {
        "colab": {
          "base_uri": "https://localhost:8080/"
        },
        "id": "q_pTBl03UleR",
        "outputId": "ae938ed4-e109-4ecf-b1fd-e6b2ce981f97"
      },
      "source": [
        "print(ri[ri.driver_gender == 'M'].search_conducted.mean())"
      ],
      "execution_count": 60,
      "outputs": [
        {
          "output_type": "stream",
          "name": "stdout",
          "text": [
            "0.04542557598546892\n"
          ]
        }
      ]
    },
    {
      "cell_type": "markdown",
      "metadata": {
        "id": "kGvqqRm6Uv4S"
      },
      "source": [
        "Grouping by driver gender to calculate the search rate for both groups simultaneously. (It should match the previous results.)"
      ]
    },
    {
      "cell_type": "code",
      "metadata": {
        "colab": {
          "base_uri": "https://localhost:8080/"
        },
        "id": "MWnCFHTaU02s",
        "outputId": "08dd5465-0357-49f6-b87c-7fea6753af2f"
      },
      "source": [
        "print(ri.groupby('driver_gender').search_conducted.mean())"
      ],
      "execution_count": 61,
      "outputs": [
        {
          "output_type": "stream",
          "name": "stdout",
          "text": [
            "driver_gender\n",
            "F    0.019181\n",
            "M    0.045426\n",
            "Name: search_conducted, dtype: float64\n"
          ]
        }
      ]
    },
    {
      "cell_type": "markdown",
      "metadata": {
        "id": "OMEihFFIVExX"
      },
      "source": [
        "> Male drivers are searched more than twice as often as female drivers. Why might this be?\n",
        "\n",
        "**Adding a second factor to the analysis**\n",
        "\n",
        "Even though the search rate for males is much higher than for females, it's possible that the difference is mostly due to a second factor.\n",
        "\n",
        "For example, we might hypothesize that the search rate varies by violation type, and the difference in search rate between males and females is because they tend to commit different violations.\n",
        "\n",
        "We can test this hypothesis by examining the search rate for each combination of gender and violation. If the hypothesis was true, we would find that males and females are searched at about the same rate for each violation.\n",
        "\n",
        "Let's find out, what's the case!\n",
        "\n",
        "Using a ```.groupby()``` to calculate the search rate for each combination of gender and violation. *Are males and females searched at about the same rate for each violation?*"
      ]
    },
    {
      "cell_type": "code",
      "metadata": {
        "colab": {
          "base_uri": "https://localhost:8080/"
        },
        "id": "HNNcrgntWLki",
        "outputId": "aca515a1-5690-4b8a-e8c9-8013e5774af6"
      },
      "source": [
        "print(ri.groupby(['driver_gender', 'violation']).search_conducted.mean())"
      ],
      "execution_count": 63,
      "outputs": [
        {
          "output_type": "stream",
          "name": "stdout",
          "text": [
            "driver_gender  violation          \n",
            "F              Equipment              0.039984\n",
            "               Moving violation       0.039257\n",
            "               Other                  0.041018\n",
            "               Registration/plates    0.054924\n",
            "               Seat belt              0.017301\n",
            "               Speeding               0.008309\n",
            "M              Equipment              0.071496\n",
            "               Moving violation       0.061524\n",
            "               Other                  0.046191\n",
            "               Registration/plates    0.108802\n",
            "               Seat belt              0.035119\n",
            "               Speeding               0.027885\n",
            "Name: search_conducted, dtype: float64\n"
          ]
        }
      ]
    },
    {
      "cell_type": "markdown",
      "metadata": {
        "id": "9u_SxjnVXgpx"
      },
      "source": [
        "Reversing the ordering to group by violation before gender. The results may be easier to compare when presented this way."
      ]
    },
    {
      "cell_type": "code",
      "metadata": {
        "colab": {
          "base_uri": "https://localhost:8080/"
        },
        "id": "U4Oi5doPXkG5",
        "outputId": "7ad1636e-cfd2-44dd-b8cd-93ce6d1e2eca"
      },
      "source": [
        "print(ri.groupby(['violation', 'driver_gender']).search_conducted.mean())"
      ],
      "execution_count": 64,
      "outputs": [
        {
          "output_type": "stream",
          "name": "stdout",
          "text": [
            "violation            driver_gender\n",
            "Equipment            F                0.039984\n",
            "                     M                0.071496\n",
            "Moving violation     F                0.039257\n",
            "                     M                0.061524\n",
            "Other                F                0.041018\n",
            "                     M                0.046191\n",
            "Registration/plates  F                0.054924\n",
            "                     M                0.108802\n",
            "Seat belt            F                0.017301\n",
            "                     M                0.035119\n",
            "Speeding             F                0.008309\n",
            "                     M                0.027885\n",
            "Name: search_conducted, dtype: float64\n"
          ]
        }
      ]
    },
    {
      "cell_type": "markdown",
      "metadata": {
        "id": "WUzaagbGY3oi"
      },
      "source": [
        "For all types of violations, the search rate is higher for males than for females, disproving our hypothesis.\n",
        "\n",
        "###Does gender affect who is frisked during a search?\n",
        "\n",
        "In this section, we'll take a look at what happens during a search.\n",
        "\n",
        "**Examining the search types**\n",
        "\n",
        "As we've seen previously, the search_conducted field is True if there's a search during a traffic stop, and False otherwise. "
      ]
    },
    {
      "cell_type": "code",
      "metadata": {
        "colab": {
          "base_uri": "https://localhost:8080/"
        },
        "id": "hbsyXBv7Zlo6",
        "outputId": "c6f4eb00-c497-404d-909a-f9a8f285ba78"
      },
      "source": [
        "ri.search_conducted.value_counts()"
      ],
      "execution_count": 65,
      "outputs": [
        {
          "output_type": "execute_result",
          "data": {
            "text/plain": [
              "False    83229\n",
              "True      3307\n",
              "Name: search_conducted, dtype: int64"
            ]
          },
          "metadata": {},
          "execution_count": 65
        }
      ]
    },
    {
      "cell_type": "markdown",
      "metadata": {
        "id": "d-qnKXZJZoZx"
      },
      "source": [
        "There's also a related field, search_type, that contains additional information about the search."
      ]
    },
    {
      "cell_type": "code",
      "metadata": {
        "colab": {
          "base_uri": "https://localhost:8080/"
        },
        "id": "nVSeQypZZtJz",
        "outputId": "ab2313d0-1a8a-42c1-ed6e-b88f8d95914b"
      },
      "source": [
        "ri.search_type.value_counts(dropna=False)"
      ],
      "execution_count": 66,
      "outputs": [
        {
          "output_type": "execute_result",
          "data": {
            "text/plain": [
              "NaN                                                         83229\n",
              "Incident to Arrest                                           1290\n",
              "Probable Cause                                                924\n",
              "Inventory                                                     219\n",
              "Reasonable Suspicion                                          214\n",
              "Protective Frisk                                              164\n",
              "Incident to Arrest,Inventory                                  123\n",
              "Incident to Arrest,Probable Cause                             100\n",
              "Probable Cause,Reasonable Suspicion                            54\n",
              "Incident to Arrest,Inventory,Probable Cause                    35\n",
              "Probable Cause,Protective Frisk                                35\n",
              "Incident to Arrest,Protective Frisk                            33\n",
              "Inventory,Probable Cause                                       25\n",
              "Protective Frisk,Reasonable Suspicion                          19\n",
              "Incident to Arrest,Inventory,Protective Frisk                  18\n",
              "Incident to Arrest,Probable Cause,Protective Frisk             13\n",
              "Inventory,Protective Frisk                                     12\n",
              "Incident to Arrest,Reasonable Suspicion                         8\n",
              "Probable Cause,Protective Frisk,Reasonable Suspicion            5\n",
              "Incident to Arrest,Probable Cause,Reasonable Suspicion          5\n",
              "Incident to Arrest,Inventory,Reasonable Suspicion               4\n",
              "Incident to Arrest,Protective Frisk,Reasonable Suspicion        2\n",
              "Inventory,Reasonable Suspicion                                  2\n",
              "Inventory,Probable Cause,Reasonable Suspicion                   1\n",
              "Inventory,Probable Cause,Protective Frisk                       1\n",
              "Inventory,Protective Frisk,Reasonable Suspicion                 1\n",
              "Name: search_type, dtype: int64"
            ]
          },
          "metadata": {},
          "execution_count": 66
        }
      ]
    },
    {
      "cell_type": "markdown",
      "metadata": {
        "id": "H7bXZ77CZxqo"
      },
      "source": [
        "> the search_type field has 83,229 missing values, which is identical to the number of False values in the search_conducted field.\n",
        "\n",
        "That's because any time a search is not conducted, there's no information to record about a search, and thus the search_type will be missing.\n",
        "\n",
        "The ```value_counts()``` method excludes missing values by default, and so we specified dropna equals False in order to see the missing values.\n",
        "\n",
        "**Examining the search types**\n",
        "\n",
        "There are only five possible values for search_type, which you can see at the top of the ```value_counts()``` output: Incident to Arrest, Probable Cause, Inventory, Reasonable Suspicion, and Protective Frisk.\n",
        "\n"
      ]
    },
    {
      "cell_type": "code",
      "metadata": {
        "colab": {
          "base_uri": "https://localhost:8080/"
        },
        "id": "r9_fXRCXavdG",
        "outputId": "0e1807b9-13e7-456a-d203-783cd2b36df5"
      },
      "source": [
        "ri.search_type.value_counts()"
      ],
      "execution_count": 67,
      "outputs": [
        {
          "output_type": "execute_result",
          "data": {
            "text/plain": [
              "Incident to Arrest                                          1290\n",
              "Probable Cause                                               924\n",
              "Inventory                                                    219\n",
              "Reasonable Suspicion                                         214\n",
              "Protective Frisk                                             164\n",
              "Incident to Arrest,Inventory                                 123\n",
              "Incident to Arrest,Probable Cause                            100\n",
              "Probable Cause,Reasonable Suspicion                           54\n",
              "Probable Cause,Protective Frisk                               35\n",
              "Incident to Arrest,Inventory,Probable Cause                   35\n",
              "Incident to Arrest,Protective Frisk                           33\n",
              "Inventory,Probable Cause                                      25\n",
              "Protective Frisk,Reasonable Suspicion                         19\n",
              "Incident to Arrest,Inventory,Protective Frisk                 18\n",
              "Incident to Arrest,Probable Cause,Protective Frisk            13\n",
              "Inventory,Protective Frisk                                    12\n",
              "Incident to Arrest,Reasonable Suspicion                        8\n",
              "Incident to Arrest,Probable Cause,Reasonable Suspicion         5\n",
              "Probable Cause,Protective Frisk,Reasonable Suspicion           5\n",
              "Incident to Arrest,Inventory,Reasonable Suspicion              4\n",
              "Incident to Arrest,Protective Frisk,Reasonable Suspicion       2\n",
              "Inventory,Reasonable Suspicion                                 2\n",
              "Inventory,Probable Cause,Protective Frisk                      1\n",
              "Inventory,Protective Frisk,Reasonable Suspicion                1\n",
              "Inventory,Probable Cause,Reasonable Suspicion                  1\n",
              "Name: search_type, dtype: int64"
            ]
          },
          "metadata": {},
          "execution_count": 67
        }
      ]
    },
    {
      "cell_type": "markdown",
      "metadata": {
        "id": "8gsv8vmrbNAT"
      },
      "source": [
        "But sometimes, multiple values are relevant for a single traffic stop, in which case they're separated by commas. Let's focus on Inventory, meaning searches in which the police took an inventory of the vehicle.\n",
        "\n",
        " Looking at the third line of the ```value_counts()``` output, we see 219, which is the number of searches in which Inventory was the only search type. \n",
        " \n",
        "But what if we wanted to know the total number of times in which an inventory was done during a search?\n",
        "\n",
        " We'd also have to include any stops in which Inventory was one of multiple search types. To do this, we'll use a string method.\n",
        "\n",
        "**Searching for a string**\n",
        "\n",
        "We'll use a string method called ```contains()``` that checks whether a string is present in each element of a given column. It returns True if the string is found, and False if it's not found. We also specify na equals False, which tells the ```contains()``` method to return False when it finds a missing value in the search_type column. We'll save the results in a new column called inventory.\n",
        "\n"
      ]
    },
    {
      "cell_type": "code",
      "metadata": {
        "id": "ecGS88oIevTG"
      },
      "source": [
        "ri['inventory'] = ri.search_type.str.contains('Inventory', na=False)"
      ],
      "execution_count": 68,
      "outputs": []
    },
    {
      "cell_type": "code",
      "metadata": {
        "colab": {
          "base_uri": "https://localhost:8080/"
        },
        "id": "ltvP9sobe1bB",
        "outputId": "9b70b95a-70f2-468d-bc75-faf2c10cd799"
      },
      "source": [
        "ri.inventory.dtype"
      ],
      "execution_count": 69,
      "outputs": [
        {
          "output_type": "execute_result",
          "data": {
            "text/plain": [
              "dtype('bool')"
            ]
          },
          "metadata": {},
          "execution_count": 69
        }
      ]
    },
    {
      "cell_type": "markdown",
      "metadata": {
        "id": "JdNx6Sspe2fp"
      },
      "source": [
        "The data type of the column is Boolean. To be clear, a True value in this column means that an inventory was done during a search, and a False value means it was not. "
      ]
    },
    {
      "cell_type": "code",
      "metadata": {
        "colab": {
          "base_uri": "https://localhost:8080/"
        },
        "id": "A2FqLPOme-dS",
        "outputId": "3ba6f040-b121-44dc-9a8c-8129095bde6f"
      },
      "source": [
        "ri.inventory.sum()"
      ],
      "execution_count": 70,
      "outputs": [
        {
          "output_type": "execute_result",
          "data": {
            "text/plain": [
              "441"
            ]
          },
          "metadata": {},
          "execution_count": 70
        }
      ]
    },
    {
      "cell_type": "markdown",
      "metadata": {
        "id": "NzbXCfUce_1K"
      },
      "source": [
        "Taking the ```sum()``` of the inventory column to see that an inventory was done during 441 searches. This includes the 219 stops in which Inventory was the only search type, plus additional stops in which Inventory was one of multiple search types.\n",
        "\n",
        "**Calculating the inventory rate**\n",
        "\n",
        "What if we wanted to calculate the percentage of searches which included an inventory?\n",
        "\n",
        "Taking the ```mean()``` of the inventory column, and the answer would be about 0.5%. "
      ]
    },
    {
      "cell_type": "code",
      "metadata": {
        "colab": {
          "base_uri": "https://localhost:8080/"
        },
        "id": "uX7KKGmdfb6D",
        "outputId": "798434c5-2beb-4189-ad98-4781579dc25e"
      },
      "source": [
        "ri.inventory.mean()"
      ],
      "execution_count": 71,
      "outputs": [
        {
          "output_type": "execute_result",
          "data": {
            "text/plain": [
              "0.0050961449570121106"
            ]
          },
          "metadata": {},
          "execution_count": 71
        }
      ]
    },
    {
      "cell_type": "markdown",
      "metadata": {
        "id": "E61KWNJMfheG"
      },
      "source": [
        "*But what's wrong with this calculation?* 0.5% is the percentage of all traffic stops which resulted in an inventory, including those stops in which a search was not even done.\n",
        "\n",
        "We first need to filter the DataFrame to only include those rows in which a search was done, and then take the mean() of the inventory column."
      ]
    },
    {
      "cell_type": "code",
      "metadata": {
        "colab": {
          "base_uri": "https://localhost:8080/"
        },
        "id": "RIAtJZPkfoky",
        "outputId": "1912166b-06f3-40a3-d98a-761f7767f3a8"
      },
      "source": [
        "searched = ri[ri.search_conducted == True]\n",
        "searched.inventory.mean()"
      ],
      "execution_count": 72,
      "outputs": [
        {
          "output_type": "execute_result",
          "data": {
            "text/plain": [
              "0.13335349259147264"
            ]
          },
          "metadata": {},
          "execution_count": 72
        }
      ]
    },
    {
      "cell_type": "markdown",
      "metadata": {
        "id": "adRvxJRhfs9x"
      },
      "source": [
        "> The correct answer is that 13.3% of searches included an inventory. \n",
        "\n",
        "\n",
        "This is a vastly different result, and it highlights the importance of carefully choosing which rows are relevant before doing a calculation.\n",
        "\n",
        "\n",
        "**Counting protective frisks**\n",
        "\n",
        "During a vehicle search, the police officer may pat down the driver to check if they have a weapon. This is known as a \"protective frisk.\"\n",
        "\n",
        "We'll first check to see how many times \"Protective Frisk\" was the only search type. Then, we'll use a string method to locate all instances in which the driver was frisked.\n"
      ]
    },
    {
      "cell_type": "code",
      "metadata": {
        "colab": {
          "base_uri": "https://localhost:8080/"
        },
        "id": "mfosEjSpf9-b",
        "outputId": "006bebe4-1244-4fd5-fac1-1c6ff7e70f91"
      },
      "source": [
        "print(ri.search_type.value_counts())"
      ],
      "execution_count": 73,
      "outputs": [
        {
          "output_type": "stream",
          "name": "stdout",
          "text": [
            "Incident to Arrest                                          1290\n",
            "Probable Cause                                               924\n",
            "Inventory                                                    219\n",
            "Reasonable Suspicion                                         214\n",
            "Protective Frisk                                             164\n",
            "Incident to Arrest,Inventory                                 123\n",
            "Incident to Arrest,Probable Cause                            100\n",
            "Probable Cause,Reasonable Suspicion                           54\n",
            "Probable Cause,Protective Frisk                               35\n",
            "Incident to Arrest,Inventory,Probable Cause                   35\n",
            "Incident to Arrest,Protective Frisk                           33\n",
            "Inventory,Probable Cause                                      25\n",
            "Protective Frisk,Reasonable Suspicion                         19\n",
            "Incident to Arrest,Inventory,Protective Frisk                 18\n",
            "Incident to Arrest,Probable Cause,Protective Frisk            13\n",
            "Inventory,Protective Frisk                                    12\n",
            "Incident to Arrest,Reasonable Suspicion                        8\n",
            "Incident to Arrest,Probable Cause,Reasonable Suspicion         5\n",
            "Probable Cause,Protective Frisk,Reasonable Suspicion           5\n",
            "Incident to Arrest,Inventory,Reasonable Suspicion              4\n",
            "Incident to Arrest,Protective Frisk,Reasonable Suspicion       2\n",
            "Inventory,Reasonable Suspicion                                 2\n",
            "Inventory,Probable Cause,Protective Frisk                      1\n",
            "Inventory,Protective Frisk,Reasonable Suspicion                1\n",
            "Inventory,Probable Cause,Reasonable Suspicion                  1\n",
            "Name: search_type, dtype: int64\n"
          ]
        }
      ]
    },
    {
      "cell_type": "code",
      "metadata": {
        "id": "GsgWu0pKgKIE"
      },
      "source": [
        "# Checking if 'search_type' contains the string 'Protective Frisk'\n",
        "ri['frisk'] = ri.search_type.str.contains('Protective Frisk', na=False)\n",
        "\n"
      ],
      "execution_count": 74,
      "outputs": []
    },
    {
      "cell_type": "code",
      "metadata": {
        "colab": {
          "base_uri": "https://localhost:8080/"
        },
        "id": "ud0z86ZTgejy",
        "outputId": "d37ed4fd-979b-4467-985b-a56517387500"
      },
      "source": [
        "# Checking the data type of 'frisk'\n",
        "print(ri['frisk'].dtype)\n",
        "\n",
        "# Taking the sum of 'frisk'\n",
        "print(ri['frisk'].sum())"
      ],
      "execution_count": 75,
      "outputs": [
        {
          "output_type": "stream",
          "name": "stdout",
          "text": [
            "bool\n",
            "303\n"
          ]
        }
      ]
    },
    {
      "cell_type": "markdown",
      "metadata": {
        "id": "M6wgCubNgjtB"
      },
      "source": [
        ">  It looks like there were 303 drivers who were frisked. Next, you'll examine whether gender affects who is frisked.\n",
        "\n",
        "**Comparing frisk rates by gender**\n",
        "\n",
        "We'll compare the rates at which female and male drivers are frisked during a search. *Are males frisked more often than females, perhaps because police officers consider them to be higher risk?*\n",
        "\n",
        "Before doing any calculations, it's important to filter the DataFrame to only include the relevant subset of data, namely stops in which a search was conducted."
      ]
    },
    {
      "cell_type": "code",
      "metadata": {
        "colab": {
          "base_uri": "https://localhost:8080/"
        },
        "id": "84VyNWs0gu4S",
        "outputId": "f0fda105-ac6f-401e-a93e-c4eec71cf00f"
      },
      "source": [
        "# Creating a DataFrame of stops in which a search was conducted\n",
        "searched = ri[ri.search_conducted == True]\n",
        "\n",
        "# Calculating the overall frisk rate by taking the mean of 'frisk'\n",
        "print(searched.frisk.mean())\n",
        "\n",
        "# Calculating the frisk rate for each gender\n",
        "print(searched.groupby('driver_gender').frisk.mean())"
      ],
      "execution_count": 76,
      "outputs": [
        {
          "output_type": "stream",
          "name": "stdout",
          "text": [
            "0.09162382824312065\n",
            "driver_gender\n",
            "F    0.074561\n",
            "M    0.094353\n",
            "Name: frisk, dtype: float64\n"
          ]
        }
      ]
    },
    {
      "cell_type": "markdown",
      "metadata": {
        "id": "evKzJpHRhqzC"
      },
      "source": [
        "> The frisk rate is higher for males than for females, though we can't conclude that this difference is caused by the driver's gender."
      ]
    },
    {
      "cell_type": "markdown",
      "metadata": {
        "id": "jCqsnkBSQcVc"
      },
      "source": [
        "##Visual exploratory data analysis\n",
        "\n",
        "Are you more likely to get arrested at a certain time of day? Are drug-related stops on the rise? \n",
        "\n",
        "In this chapter, we'll explore and analyze the dataset visually using plots.\n",
        "\n",
        "###Analyzing datetime data\n",
        "\n",
        "We converted the date_and_time column to pandas datetime format. Because of datetime format, we actually have access to special date-based attributes via the dt accessor.\n",
        "\n",
        "For example, we can access the month as an integer by using the ```dt.month``` attribute. There are many other similar attributes available, such as week, dayofweek, hour, minute, and so on.\n",
        "\n",
        "We can set the date_and_time column as the DataFrame index. Because of its data type, it is now a DatetimeIndex. We can still access the same datetime attributes, such as month, and we get the same result as before, but **we no longer have to use the dt accessor**.\n",
        "\n",
        "**Calculating the hourly arrest rate**\n",
        "\n",
        "When a police officer stops a driver, a small percentage of those stops ends in an arrest. This is known as the arrest rate.\n",
        "\n",
        "> We'll find out whether the arrest rate varies by time of day.\n",
        "\n",
        "First, we'll calculate the arrest rate across all stops in the ri DataFrame. Then, we'll calculate the hourly arrest rate by using the hour attribute of the index. The hour ranges from 0 to 23, in which:\n",
        "\n",
        "* 0 = midnight\n",
        "* 12 = noon\n",
        "* 23 = 11 PM\n",
        "\n",
        "Taking the mean of the is_arrested column to calculate the overall arrest rate.\n",
        "\n"
      ]
    },
    {
      "cell_type": "code",
      "metadata": {
        "colab": {
          "base_uri": "https://localhost:8080/"
        },
        "id": "hGktSpR4lBXg",
        "outputId": "ddae0412-419e-46d3-bb34-dab6a09acf17"
      },
      "source": [
        "print(ri.is_arrested.mean())"
      ],
      "execution_count": 77,
      "outputs": [
        {
          "output_type": "stream",
          "name": "stdout",
          "text": [
            "0.0355690117407784\n"
          ]
        }
      ]
    },
    {
      "cell_type": "markdown",
      "metadata": {
        "id": "7rC9PF9qloqL"
      },
      "source": [
        "Grouping by the hour attribute of the DataFrame index to calculate the hourly arrest rate."
      ]
    },
    {
      "cell_type": "code",
      "metadata": {
        "colab": {
          "base_uri": "https://localhost:8080/"
        },
        "id": "mypEShnxlqsF",
        "outputId": "ba8c6156-b75b-4edb-cf7c-16af0a6c12b3"
      },
      "source": [
        "print(ri.groupby(ri.index.hour).is_arrested.mean())"
      ],
      "execution_count": 79,
      "outputs": [
        {
          "output_type": "stream",
          "name": "stdout",
          "text": [
            "stop_datetime\n",
            "0     0.051431\n",
            "1     0.064932\n",
            "2     0.060798\n",
            "3     0.060549\n",
            "4     0.048000\n",
            "5     0.042781\n",
            "6     0.013813\n",
            "7     0.013032\n",
            "8     0.021854\n",
            "9     0.025206\n",
            "10    0.028213\n",
            "11    0.028897\n",
            "12    0.037399\n",
            "13    0.030776\n",
            "14    0.030605\n",
            "15    0.030679\n",
            "16    0.035281\n",
            "17    0.040619\n",
            "18    0.038204\n",
            "19    0.032245\n",
            "20    0.038107\n",
            "21    0.064541\n",
            "22    0.048666\n",
            "23    0.047592\n",
            "Name: is_arrested, dtype: float64\n"
          ]
        }
      ]
    },
    {
      "cell_type": "markdown",
      "metadata": {
        "id": "pjy7RvvSlsk0"
      },
      "source": [
        "Saving the hourly arrest rate Series as a new object, hourly_arrest_rate"
      ]
    },
    {
      "cell_type": "code",
      "metadata": {
        "id": "Xlerhjohlwyj"
      },
      "source": [
        "hourly_arrest_rate = ri.groupby(ri.index.hour).is_arrested.mean()"
      ],
      "execution_count": 80,
      "outputs": []
    },
    {
      "cell_type": "markdown",
      "metadata": {
        "id": "KmpQ9-QNl5jK"
      },
      "source": [
        "**Plotting the hourly arrest rate**\n",
        "\n",
        "We'll create a line plot from the hourly_arrest_rate object. A line plot is appropriate in this case because we're showing how a quantity changes over time.\n",
        "\n",
        "This plot should help us to spot some trends that may not have been obvious when examining the raw numbers!\n",
        "\n"
      ]
    },
    {
      "cell_type": "code",
      "metadata": {
        "colab": {
          "base_uri": "https://localhost:8080/",
          "height": 295
        },
        "id": "tmSFozX2mTtK",
        "outputId": "599d4516-1964-4f1b-9336-573e2d269ab5"
      },
      "source": [
        "# Importing matplotlib.pyplot as plt\n",
        "import matplotlib.pyplot as plt\n",
        "\n",
        "# Creating a line plot of 'hourly_arrest_rate'\n",
        "hourly_arrest_rate.plot()\n",
        "\n",
        "# Adding the xlabel, ylabel, and title\n",
        "plt.xlabel('Hour')\n",
        "plt.ylabel('Arrest Rate')\n",
        "plt.title('Arrest Rate by Time of Day')\n",
        "\n",
        "# Displaying the plot\n",
        "plt.show()"
      ],
      "execution_count": 81,
      "outputs": [
        {
          "output_type": "display_data",
          "data": {
            "image/png": "[encoded data removed]",
            "text/plain": [
              "<Figure size 432x288 with 1 Axes>"
            ]
          },
          "metadata": {
            "needs_background": "light"
          }
        }
      ]
    },
    {
      "cell_type": "markdown",
      "metadata": {
        "id": "a7Yx6TS3mcaD"
      },
      "source": [
        "> The arrest rate has a significant spike overnight, and then dips in the early morning hours.\n",
        "\n",
        "**Are drug-related stops on the rise?**\n",
        "\n",
        " In this section, we'll use subplots to help us examine the relationship between two variables over time.\n",
        "\n",
        " "
      ]
    },
    {
      "cell_type": "markdown",
      "metadata": {
        "id": "Y2AAo3SeQcz1"
      },
      "source": [
        "##Analyzing the effect of weather on policing\n",
        "\n",
        "use a second dataset to explore the impact of weather conditions on police behavior during traffic stops. \n",
        "\n",
        "* merging and reshaping datasets, a\n",
        "* assessing whether a data source is trustworthy, \n",
        "* working with categorical data, and other advanced skills."
      ]
    }
  ]
}